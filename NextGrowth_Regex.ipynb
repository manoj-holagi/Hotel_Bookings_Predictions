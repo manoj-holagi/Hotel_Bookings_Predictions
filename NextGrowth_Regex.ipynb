{
  "nbformat": 4,
  "nbformat_minor": 0,
  "metadata": {
    "colab": {
      "name": "NextGrowth_Regex.ipynb",
      "provenance": []
    },
    "kernelspec": {
      "name": "python3",
      "display_name": "Python 3"
    },
    "language_info": {
      "name": "python"
    }
  },
  "cells": [
    {
      "cell_type": "code",
      "execution_count": 1,
      "metadata": {
        "colab": {
          "base_uri": "https://localhost:8080/"
        },
        "id": "2klTlR9d3EGd",
        "outputId": "10f7d0f6-e1ed-461f-8ff7-e01c2248b5f8"
      },
      "outputs": [
        {
          "output_type": "stream",
          "name": "stdout",
          "text": [
            "['1', '2', '3', '4', '5', '6', '7', '8', '9', '10', '11', '648', '649', '650', '651', '652', '653', '3']\n"
          ]
        }
      ],
      "source": [
        "import re\n",
        "\n",
        "str = '{\"orders\":[{\"id\":1},{\"id\":2},{\"id\":3},{\"id\":4},{\"id\":5},{\"id\":6},{\"id\":7},{\"id\":8},{\"id\":9},{\"id\":10},{\"id\":11},{\"id\":648},{\"id\":649},{\"id\":650},{\"id\":651},{\"id\":652},{\"id\":653}],\"errors\":[{\"code\":3,\"message\":\"[PHP Warning #2]count(): Parameter must be an array or an object that implements Countable(153)\"}]}'\n",
        "#search using regex\n",
        "x = re.findall(':[0-9]+', str)\n",
        "print([s.strip(':') for s in x])"
      ]
    }
  ]
}