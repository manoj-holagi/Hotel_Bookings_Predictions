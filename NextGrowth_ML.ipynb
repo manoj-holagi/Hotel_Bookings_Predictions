{
 "cells": [
  {
   "cell_type": "code",
   "execution_count": 1,
   "id": "d7b70cf9",
   "metadata": {},
   "outputs": [],
   "source": [
    "import numpy as np\n",
    "import pandas as pd\n",
    "import seaborn as sns\n",
    "import matplotlib.pyplot as plt"
   ]
  },
  {
   "cell_type": "markdown",
   "id": "d1e28269",
   "metadata": {},
   "source": [
    "# Importing Training Dataset"
   ]
  },
  {
   "cell_type": "code",
   "execution_count": 2,
   "id": "1d21d6a7",
   "metadata": {},
   "outputs": [
    {
     "data": {
      "text/html": [
       "<div>\n",
       "<style scoped>\n",
       "    .dataframe tbody tr th:only-of-type {\n",
       "        vertical-align: middle;\n",
       "    }\n",
       "\n",
       "    .dataframe tbody tr th {\n",
       "        vertical-align: top;\n",
       "    }\n",
       "\n",
       "    .dataframe thead th {\n",
       "        text-align: right;\n",
       "    }\n",
       "</style>\n",
       "<table border=\"1\" class=\"dataframe\">\n",
       "  <thead>\n",
       "    <tr style=\"text-align: right;\">\n",
       "      <th></th>\n",
       "      <th>Unnamed: 0</th>\n",
       "      <th>ID</th>\n",
       "      <th>Nationality</th>\n",
       "      <th>Age</th>\n",
       "      <th>DaysSinceCreation</th>\n",
       "      <th>AverageLeadTime</th>\n",
       "      <th>LodgingRevenue</th>\n",
       "      <th>OtherRevenue</th>\n",
       "      <th>BookingsCanceled</th>\n",
       "      <th>BookingsNoShowed</th>\n",
       "      <th>...</th>\n",
       "      <th>SRMediumFloor</th>\n",
       "      <th>SRBathtub</th>\n",
       "      <th>SRShower</th>\n",
       "      <th>SRCrib</th>\n",
       "      <th>SRKingSizeBed</th>\n",
       "      <th>SRTwinBed</th>\n",
       "      <th>SRNearElevator</th>\n",
       "      <th>SRAwayFromElevator</th>\n",
       "      <th>SRNoAlcoholInMiniBar</th>\n",
       "      <th>SRQuietRoom</th>\n",
       "    </tr>\n",
       "  </thead>\n",
       "  <tbody>\n",
       "    <tr>\n",
       "      <th>0</th>\n",
       "      <td>0</td>\n",
       "      <td>1</td>\n",
       "      <td>PRT</td>\n",
       "      <td>51.0</td>\n",
       "      <td>150</td>\n",
       "      <td>45</td>\n",
       "      <td>371.0</td>\n",
       "      <td>105.3</td>\n",
       "      <td>1</td>\n",
       "      <td>0</td>\n",
       "      <td>...</td>\n",
       "      <td>0</td>\n",
       "      <td>0</td>\n",
       "      <td>0</td>\n",
       "      <td>0</td>\n",
       "      <td>0</td>\n",
       "      <td>0</td>\n",
       "      <td>0</td>\n",
       "      <td>0</td>\n",
       "      <td>0</td>\n",
       "      <td>0</td>\n",
       "    </tr>\n",
       "    <tr>\n",
       "      <th>1</th>\n",
       "      <td>1</td>\n",
       "      <td>2</td>\n",
       "      <td>PRT</td>\n",
       "      <td>NaN</td>\n",
       "      <td>1095</td>\n",
       "      <td>61</td>\n",
       "      <td>280.0</td>\n",
       "      <td>53.0</td>\n",
       "      <td>0</td>\n",
       "      <td>0</td>\n",
       "      <td>...</td>\n",
       "      <td>0</td>\n",
       "      <td>0</td>\n",
       "      <td>0</td>\n",
       "      <td>0</td>\n",
       "      <td>0</td>\n",
       "      <td>0</td>\n",
       "      <td>0</td>\n",
       "      <td>0</td>\n",
       "      <td>0</td>\n",
       "      <td>0</td>\n",
       "    </tr>\n",
       "    <tr>\n",
       "      <th>2</th>\n",
       "      <td>2</td>\n",
       "      <td>3</td>\n",
       "      <td>DEU</td>\n",
       "      <td>31.0</td>\n",
       "      <td>1095</td>\n",
       "      <td>0</td>\n",
       "      <td>0.0</td>\n",
       "      <td>0.0</td>\n",
       "      <td>0</td>\n",
       "      <td>0</td>\n",
       "      <td>...</td>\n",
       "      <td>0</td>\n",
       "      <td>0</td>\n",
       "      <td>0</td>\n",
       "      <td>0</td>\n",
       "      <td>0</td>\n",
       "      <td>0</td>\n",
       "      <td>0</td>\n",
       "      <td>0</td>\n",
       "      <td>0</td>\n",
       "      <td>0</td>\n",
       "    </tr>\n",
       "    <tr>\n",
       "      <th>3</th>\n",
       "      <td>3</td>\n",
       "      <td>4</td>\n",
       "      <td>FRA</td>\n",
       "      <td>60.0</td>\n",
       "      <td>1095</td>\n",
       "      <td>93</td>\n",
       "      <td>240.0</td>\n",
       "      <td>60.0</td>\n",
       "      <td>0</td>\n",
       "      <td>0</td>\n",
       "      <td>...</td>\n",
       "      <td>0</td>\n",
       "      <td>0</td>\n",
       "      <td>0</td>\n",
       "      <td>0</td>\n",
       "      <td>0</td>\n",
       "      <td>0</td>\n",
       "      <td>0</td>\n",
       "      <td>0</td>\n",
       "      <td>0</td>\n",
       "      <td>0</td>\n",
       "    </tr>\n",
       "    <tr>\n",
       "      <th>4</th>\n",
       "      <td>4</td>\n",
       "      <td>5</td>\n",
       "      <td>FRA</td>\n",
       "      <td>51.0</td>\n",
       "      <td>1095</td>\n",
       "      <td>0</td>\n",
       "      <td>0.0</td>\n",
       "      <td>0.0</td>\n",
       "      <td>0</td>\n",
       "      <td>0</td>\n",
       "      <td>...</td>\n",
       "      <td>0</td>\n",
       "      <td>0</td>\n",
       "      <td>0</td>\n",
       "      <td>0</td>\n",
       "      <td>0</td>\n",
       "      <td>0</td>\n",
       "      <td>0</td>\n",
       "      <td>0</td>\n",
       "      <td>0</td>\n",
       "      <td>0</td>\n",
       "    </tr>\n",
       "  </tbody>\n",
       "</table>\n",
       "<p>5 rows × 30 columns</p>\n",
       "</div>"
      ],
      "text/plain": [
       "   Unnamed: 0  ID Nationality   Age  DaysSinceCreation  AverageLeadTime  \\\n",
       "0           0   1         PRT  51.0                150               45   \n",
       "1           1   2         PRT   NaN               1095               61   \n",
       "2           2   3         DEU  31.0               1095                0   \n",
       "3           3   4         FRA  60.0               1095               93   \n",
       "4           4   5         FRA  51.0               1095                0   \n",
       "\n",
       "   LodgingRevenue  OtherRevenue  BookingsCanceled  BookingsNoShowed  ...  \\\n",
       "0           371.0         105.3                 1                 0  ...   \n",
       "1           280.0          53.0                 0                 0  ...   \n",
       "2             0.0           0.0                 0                 0  ...   \n",
       "3           240.0          60.0                 0                 0  ...   \n",
       "4             0.0           0.0                 0                 0  ...   \n",
       "\n",
       "   SRMediumFloor  SRBathtub  SRShower  SRCrib  SRKingSizeBed SRTwinBed  \\\n",
       "0              0          0         0       0              0         0   \n",
       "1              0          0         0       0              0         0   \n",
       "2              0          0         0       0              0         0   \n",
       "3              0          0         0       0              0         0   \n",
       "4              0          0         0       0              0         0   \n",
       "\n",
       "  SRNearElevator  SRAwayFromElevator  SRNoAlcoholInMiniBar  SRQuietRoom  \n",
       "0              0                   0                     0            0  \n",
       "1              0                   0                     0            0  \n",
       "2              0                   0                     0            0  \n",
       "3              0                   0                     0            0  \n",
       "4              0                   0                     0            0  \n",
       "\n",
       "[5 rows x 30 columns]"
      ]
     },
     "execution_count": 2,
     "metadata": {},
     "output_type": "execute_result"
    }
   ],
   "source": [
    "data  = pd.read_csv(\"A:\\\\Data Sets\\\\train_data_evaluation_part_2.csv\")\n",
    "data.head()"
   ]
  },
  {
   "cell_type": "markdown",
   "id": "0412e0f7",
   "metadata": {},
   "source": [
    "# DATA UNDERSTANDING & CLEANING"
   ]
  },
  {
   "cell_type": "code",
   "execution_count": 3,
   "id": "630f7f52",
   "metadata": {},
   "outputs": [
    {
     "data": {
      "text/plain": [
       "(82580, 30)"
      ]
     },
     "execution_count": 3,
     "metadata": {},
     "output_type": "execute_result"
    }
   ],
   "source": [
    "data.shape"
   ]
  },
  {
   "cell_type": "code",
   "execution_count": 4,
   "id": "7dceae78",
   "metadata": {},
   "outputs": [
    {
     "data": {
      "text/html": [
       "<div>\n",
       "<style scoped>\n",
       "    .dataframe tbody tr th:only-of-type {\n",
       "        vertical-align: middle;\n",
       "    }\n",
       "\n",
       "    .dataframe tbody tr th {\n",
       "        vertical-align: top;\n",
       "    }\n",
       "\n",
       "    .dataframe thead th {\n",
       "        text-align: right;\n",
       "    }\n",
       "</style>\n",
       "<table border=\"1\" class=\"dataframe\">\n",
       "  <thead>\n",
       "    <tr style=\"text-align: right;\">\n",
       "      <th></th>\n",
       "      <th>Unnamed: 0</th>\n",
       "      <th>ID</th>\n",
       "      <th>Age</th>\n",
       "      <th>DaysSinceCreation</th>\n",
       "      <th>AverageLeadTime</th>\n",
       "      <th>LodgingRevenue</th>\n",
       "      <th>OtherRevenue</th>\n",
       "      <th>BookingsCanceled</th>\n",
       "      <th>BookingsNoShowed</th>\n",
       "      <th>BookingsCheckedIn</th>\n",
       "      <th>...</th>\n",
       "      <th>SRMediumFloor</th>\n",
       "      <th>SRBathtub</th>\n",
       "      <th>SRShower</th>\n",
       "      <th>SRCrib</th>\n",
       "      <th>SRKingSizeBed</th>\n",
       "      <th>SRTwinBed</th>\n",
       "      <th>SRNearElevator</th>\n",
       "      <th>SRAwayFromElevator</th>\n",
       "      <th>SRNoAlcoholInMiniBar</th>\n",
       "      <th>SRQuietRoom</th>\n",
       "    </tr>\n",
       "  </thead>\n",
       "  <tbody>\n",
       "    <tr>\n",
       "      <th>count</th>\n",
       "      <td>82580.000000</td>\n",
       "      <td>82580.000000</td>\n",
       "      <td>78834.000000</td>\n",
       "      <td>82580.000000</td>\n",
       "      <td>82580.000000</td>\n",
       "      <td>82580.000000</td>\n",
       "      <td>82580.000000</td>\n",
       "      <td>82580.000000</td>\n",
       "      <td>82580.000000</td>\n",
       "      <td>82580.000000</td>\n",
       "      <td>...</td>\n",
       "      <td>82580.000000</td>\n",
       "      <td>82580.000000</td>\n",
       "      <td>82580.000000</td>\n",
       "      <td>82580.000000</td>\n",
       "      <td>82580.000000</td>\n",
       "      <td>82580.000000</td>\n",
       "      <td>82580.000000</td>\n",
       "      <td>82580.000000</td>\n",
       "      <td>82580.000000</td>\n",
       "      <td>82580.000000</td>\n",
       "    </tr>\n",
       "    <tr>\n",
       "      <th>mean</th>\n",
       "      <td>41289.500000</td>\n",
       "      <td>41290.500000</td>\n",
       "      <td>45.468554</td>\n",
       "      <td>459.138157</td>\n",
       "      <td>66.557205</td>\n",
       "      <td>300.457373</td>\n",
       "      <td>67.890023</td>\n",
       "      <td>0.002047</td>\n",
       "      <td>0.000642</td>\n",
       "      <td>0.798402</td>\n",
       "      <td>...</td>\n",
       "      <td>0.000884</td>\n",
       "      <td>0.002809</td>\n",
       "      <td>0.001732</td>\n",
       "      <td>0.012812</td>\n",
       "      <td>0.351671</td>\n",
       "      <td>0.142771</td>\n",
       "      <td>0.000303</td>\n",
       "      <td>0.003548</td>\n",
       "      <td>0.000121</td>\n",
       "      <td>0.088060</td>\n",
       "    </tr>\n",
       "    <tr>\n",
       "      <th>std</th>\n",
       "      <td>23838.936952</td>\n",
       "      <td>23838.936952</td>\n",
       "      <td>16.526276</td>\n",
       "      <td>311.309295</td>\n",
       "      <td>87.928995</td>\n",
       "      <td>373.337007</td>\n",
       "      <td>114.496223</td>\n",
       "      <td>0.067177</td>\n",
       "      <td>0.029725</td>\n",
       "      <td>0.696880</td>\n",
       "      <td>...</td>\n",
       "      <td>0.029719</td>\n",
       "      <td>0.052930</td>\n",
       "      <td>0.041577</td>\n",
       "      <td>0.112463</td>\n",
       "      <td>0.477495</td>\n",
       "      <td>0.349841</td>\n",
       "      <td>0.017397</td>\n",
       "      <td>0.059460</td>\n",
       "      <td>0.011004</td>\n",
       "      <td>0.283384</td>\n",
       "    </tr>\n",
       "    <tr>\n",
       "      <th>min</th>\n",
       "      <td>0.000000</td>\n",
       "      <td>1.000000</td>\n",
       "      <td>-11.000000</td>\n",
       "      <td>12.000000</td>\n",
       "      <td>-1.000000</td>\n",
       "      <td>0.000000</td>\n",
       "      <td>0.000000</td>\n",
       "      <td>0.000000</td>\n",
       "      <td>0.000000</td>\n",
       "      <td>0.000000</td>\n",
       "      <td>...</td>\n",
       "      <td>0.000000</td>\n",
       "      <td>0.000000</td>\n",
       "      <td>0.000000</td>\n",
       "      <td>0.000000</td>\n",
       "      <td>0.000000</td>\n",
       "      <td>0.000000</td>\n",
       "      <td>0.000000</td>\n",
       "      <td>0.000000</td>\n",
       "      <td>0.000000</td>\n",
       "      <td>0.000000</td>\n",
       "    </tr>\n",
       "    <tr>\n",
       "      <th>25%</th>\n",
       "      <td>20644.750000</td>\n",
       "      <td>20645.750000</td>\n",
       "      <td>34.000000</td>\n",
       "      <td>183.000000</td>\n",
       "      <td>0.000000</td>\n",
       "      <td>66.400000</td>\n",
       "      <td>2.000000</td>\n",
       "      <td>0.000000</td>\n",
       "      <td>0.000000</td>\n",
       "      <td>1.000000</td>\n",
       "      <td>...</td>\n",
       "      <td>0.000000</td>\n",
       "      <td>0.000000</td>\n",
       "      <td>0.000000</td>\n",
       "      <td>0.000000</td>\n",
       "      <td>0.000000</td>\n",
       "      <td>0.000000</td>\n",
       "      <td>0.000000</td>\n",
       "      <td>0.000000</td>\n",
       "      <td>0.000000</td>\n",
       "      <td>0.000000</td>\n",
       "    </tr>\n",
       "    <tr>\n",
       "      <th>50%</th>\n",
       "      <td>41289.500000</td>\n",
       "      <td>41290.500000</td>\n",
       "      <td>46.000000</td>\n",
       "      <td>406.000000</td>\n",
       "      <td>30.000000</td>\n",
       "      <td>234.000000</td>\n",
       "      <td>39.000000</td>\n",
       "      <td>0.000000</td>\n",
       "      <td>0.000000</td>\n",
       "      <td>1.000000</td>\n",
       "      <td>...</td>\n",
       "      <td>0.000000</td>\n",
       "      <td>0.000000</td>\n",
       "      <td>0.000000</td>\n",
       "      <td>0.000000</td>\n",
       "      <td>0.000000</td>\n",
       "      <td>0.000000</td>\n",
       "      <td>0.000000</td>\n",
       "      <td>0.000000</td>\n",
       "      <td>0.000000</td>\n",
       "      <td>0.000000</td>\n",
       "    </tr>\n",
       "    <tr>\n",
       "      <th>75%</th>\n",
       "      <td>61934.250000</td>\n",
       "      <td>61935.250000</td>\n",
       "      <td>57.000000</td>\n",
       "      <td>728.000000</td>\n",
       "      <td>104.000000</td>\n",
       "      <td>403.800000</td>\n",
       "      <td>88.000000</td>\n",
       "      <td>0.000000</td>\n",
       "      <td>0.000000</td>\n",
       "      <td>1.000000</td>\n",
       "      <td>...</td>\n",
       "      <td>0.000000</td>\n",
       "      <td>0.000000</td>\n",
       "      <td>0.000000</td>\n",
       "      <td>0.000000</td>\n",
       "      <td>1.000000</td>\n",
       "      <td>0.000000</td>\n",
       "      <td>0.000000</td>\n",
       "      <td>0.000000</td>\n",
       "      <td>0.000000</td>\n",
       "      <td>0.000000</td>\n",
       "    </tr>\n",
       "    <tr>\n",
       "      <th>max</th>\n",
       "      <td>82579.000000</td>\n",
       "      <td>82580.000000</td>\n",
       "      <td>122.000000</td>\n",
       "      <td>1095.000000</td>\n",
       "      <td>588.000000</td>\n",
       "      <td>21781.000000</td>\n",
       "      <td>7730.250000</td>\n",
       "      <td>9.000000</td>\n",
       "      <td>3.000000</td>\n",
       "      <td>66.000000</td>\n",
       "      <td>...</td>\n",
       "      <td>1.000000</td>\n",
       "      <td>1.000000</td>\n",
       "      <td>1.000000</td>\n",
       "      <td>1.000000</td>\n",
       "      <td>1.000000</td>\n",
       "      <td>1.000000</td>\n",
       "      <td>1.000000</td>\n",
       "      <td>1.000000</td>\n",
       "      <td>1.000000</td>\n",
       "      <td>1.000000</td>\n",
       "    </tr>\n",
       "  </tbody>\n",
       "</table>\n",
       "<p>8 rows × 27 columns</p>\n",
       "</div>"
      ],
      "text/plain": [
       "         Unnamed: 0            ID           Age  DaysSinceCreation  \\\n",
       "count  82580.000000  82580.000000  78834.000000       82580.000000   \n",
       "mean   41289.500000  41290.500000     45.468554         459.138157   \n",
       "std    23838.936952  23838.936952     16.526276         311.309295   \n",
       "min        0.000000      1.000000    -11.000000          12.000000   \n",
       "25%    20644.750000  20645.750000     34.000000         183.000000   \n",
       "50%    41289.500000  41290.500000     46.000000         406.000000   \n",
       "75%    61934.250000  61935.250000     57.000000         728.000000   \n",
       "max    82579.000000  82580.000000    122.000000        1095.000000   \n",
       "\n",
       "       AverageLeadTime  LodgingRevenue  OtherRevenue  BookingsCanceled  \\\n",
       "count     82580.000000    82580.000000  82580.000000      82580.000000   \n",
       "mean         66.557205      300.457373     67.890023          0.002047   \n",
       "std          87.928995      373.337007    114.496223          0.067177   \n",
       "min          -1.000000        0.000000      0.000000          0.000000   \n",
       "25%           0.000000       66.400000      2.000000          0.000000   \n",
       "50%          30.000000      234.000000     39.000000          0.000000   \n",
       "75%         104.000000      403.800000     88.000000          0.000000   \n",
       "max         588.000000    21781.000000   7730.250000          9.000000   \n",
       "\n",
       "       BookingsNoShowed  BookingsCheckedIn  ...  SRMediumFloor     SRBathtub  \\\n",
       "count      82580.000000       82580.000000  ...   82580.000000  82580.000000   \n",
       "mean           0.000642           0.798402  ...       0.000884      0.002809   \n",
       "std            0.029725           0.696880  ...       0.029719      0.052930   \n",
       "min            0.000000           0.000000  ...       0.000000      0.000000   \n",
       "25%            0.000000           1.000000  ...       0.000000      0.000000   \n",
       "50%            0.000000           1.000000  ...       0.000000      0.000000   \n",
       "75%            0.000000           1.000000  ...       0.000000      0.000000   \n",
       "max            3.000000          66.000000  ...       1.000000      1.000000   \n",
       "\n",
       "           SRShower        SRCrib  SRKingSizeBed     SRTwinBed  \\\n",
       "count  82580.000000  82580.000000   82580.000000  82580.000000   \n",
       "mean       0.001732      0.012812       0.351671      0.142771   \n",
       "std        0.041577      0.112463       0.477495      0.349841   \n",
       "min        0.000000      0.000000       0.000000      0.000000   \n",
       "25%        0.000000      0.000000       0.000000      0.000000   \n",
       "50%        0.000000      0.000000       0.000000      0.000000   \n",
       "75%        0.000000      0.000000       1.000000      0.000000   \n",
       "max        1.000000      1.000000       1.000000      1.000000   \n",
       "\n",
       "       SRNearElevator  SRAwayFromElevator  SRNoAlcoholInMiniBar   SRQuietRoom  \n",
       "count    82580.000000        82580.000000          82580.000000  82580.000000  \n",
       "mean         0.000303            0.003548              0.000121      0.088060  \n",
       "std          0.017397            0.059460              0.011004      0.283384  \n",
       "min          0.000000            0.000000              0.000000      0.000000  \n",
       "25%          0.000000            0.000000              0.000000      0.000000  \n",
       "50%          0.000000            0.000000              0.000000      0.000000  \n",
       "75%          0.000000            0.000000              0.000000      0.000000  \n",
       "max          1.000000            1.000000              1.000000      1.000000  \n",
       "\n",
       "[8 rows x 27 columns]"
      ]
     },
     "execution_count": 4,
     "metadata": {},
     "output_type": "execute_result"
    }
   ],
   "source": [
    "data.describe()"
   ]
  },
  {
   "cell_type": "code",
   "execution_count": 5,
   "id": "d06605b2",
   "metadata": {},
   "outputs": [
    {
     "data": {
      "text/html": [
       "<div>\n",
       "<style scoped>\n",
       "    .dataframe tbody tr th:only-of-type {\n",
       "        vertical-align: middle;\n",
       "    }\n",
       "\n",
       "    .dataframe tbody tr th {\n",
       "        vertical-align: top;\n",
       "    }\n",
       "\n",
       "    .dataframe thead th {\n",
       "        text-align: right;\n",
       "    }\n",
       "</style>\n",
       "<table border=\"1\" class=\"dataframe\">\n",
       "  <thead>\n",
       "    <tr style=\"text-align: right;\">\n",
       "      <th></th>\n",
       "      <th>Nationality</th>\n",
       "      <th>DistributionChannel</th>\n",
       "      <th>MarketSegment</th>\n",
       "    </tr>\n",
       "  </thead>\n",
       "  <tbody>\n",
       "    <tr>\n",
       "      <th>count</th>\n",
       "      <td>82580</td>\n",
       "      <td>82580</td>\n",
       "      <td>82580</td>\n",
       "    </tr>\n",
       "    <tr>\n",
       "      <th>unique</th>\n",
       "      <td>188</td>\n",
       "      <td>4</td>\n",
       "      <td>7</td>\n",
       "    </tr>\n",
       "    <tr>\n",
       "      <th>top</th>\n",
       "      <td>FRA</td>\n",
       "      <td>Travel Agent/Operator</td>\n",
       "      <td>Other</td>\n",
       "    </tr>\n",
       "    <tr>\n",
       "      <th>freq</th>\n",
       "      <td>12307</td>\n",
       "      <td>67798</td>\n",
       "      <td>47457</td>\n",
       "    </tr>\n",
       "  </tbody>\n",
       "</table>\n",
       "</div>"
      ],
      "text/plain": [
       "       Nationality    DistributionChannel MarketSegment\n",
       "count        82580                  82580         82580\n",
       "unique         188                      4             7\n",
       "top            FRA  Travel Agent/Operator         Other\n",
       "freq         12307                  67798         47457"
      ]
     },
     "execution_count": 5,
     "metadata": {},
     "output_type": "execute_result"
    }
   ],
   "source": [
    "data.describe(include='object')"
   ]
  },
  {
   "cell_type": "code",
   "execution_count": 6,
   "id": "edebe8a0",
   "metadata": {},
   "outputs": [
    {
     "name": "stdout",
     "output_type": "stream",
     "text": [
      "<class 'pandas.core.frame.DataFrame'>\n",
      "RangeIndex: 82580 entries, 0 to 82579\n",
      "Data columns (total 30 columns):\n",
      " #   Column                Non-Null Count  Dtype  \n",
      "---  ------                --------------  -----  \n",
      " 0   Unnamed: 0            82580 non-null  int64  \n",
      " 1   ID                    82580 non-null  int64  \n",
      " 2   Nationality           82580 non-null  object \n",
      " 3   Age                   78834 non-null  float64\n",
      " 4   DaysSinceCreation     82580 non-null  int64  \n",
      " 5   AverageLeadTime       82580 non-null  int64  \n",
      " 6   LodgingRevenue        82580 non-null  float64\n",
      " 7   OtherRevenue          82580 non-null  float64\n",
      " 8   BookingsCanceled      82580 non-null  int64  \n",
      " 9   BookingsNoShowed      82580 non-null  int64  \n",
      " 10  BookingsCheckedIn     82580 non-null  int64  \n",
      " 11  PersonsNights         82580 non-null  int64  \n",
      " 12  RoomNights            82580 non-null  int64  \n",
      " 13  DaysSinceLastStay     82580 non-null  int64  \n",
      " 14  DaysSinceFirstStay    82580 non-null  int64  \n",
      " 15  DistributionChannel   82580 non-null  object \n",
      " 16  MarketSegment         82580 non-null  object \n",
      " 17  SRHighFloor           82580 non-null  int64  \n",
      " 18  SRLowFloor            82580 non-null  int64  \n",
      " 19  SRAccessibleRoom      82580 non-null  int64  \n",
      " 20  SRMediumFloor         82580 non-null  int64  \n",
      " 21  SRBathtub             82580 non-null  int64  \n",
      " 22  SRShower              82580 non-null  int64  \n",
      " 23  SRCrib                82580 non-null  int64  \n",
      " 24  SRKingSizeBed         82580 non-null  int64  \n",
      " 25  SRTwinBed             82580 non-null  int64  \n",
      " 26  SRNearElevator        82580 non-null  int64  \n",
      " 27  SRAwayFromElevator    82580 non-null  int64  \n",
      " 28  SRNoAlcoholInMiniBar  82580 non-null  int64  \n",
      " 29  SRQuietRoom           82580 non-null  int64  \n",
      "dtypes: float64(3), int64(24), object(3)\n",
      "memory usage: 18.9+ MB\n"
     ]
    }
   ],
   "source": [
    "data.info()"
   ]
  },
  {
   "cell_type": "code",
   "execution_count": 7,
   "id": "142fbf22",
   "metadata": {},
   "outputs": [
    {
     "data": {
      "text/plain": [
       "Index(['Unnamed: 0', 'ID', 'Nationality', 'Age', 'DaysSinceCreation',\n",
       "       'AverageLeadTime', 'LodgingRevenue', 'OtherRevenue', 'BookingsCanceled',\n",
       "       'BookingsNoShowed', 'BookingsCheckedIn', 'PersonsNights', 'RoomNights',\n",
       "       'DaysSinceLastStay', 'DaysSinceFirstStay', 'DistributionChannel',\n",
       "       'MarketSegment', 'SRHighFloor', 'SRLowFloor', 'SRAccessibleRoom',\n",
       "       'SRMediumFloor', 'SRBathtub', 'SRShower', 'SRCrib', 'SRKingSizeBed',\n",
       "       'SRTwinBed', 'SRNearElevator', 'SRAwayFromElevator',\n",
       "       'SRNoAlcoholInMiniBar', 'SRQuietRoom'],\n",
       "      dtype='object')"
      ]
     },
     "execution_count": 7,
     "metadata": {},
     "output_type": "execute_result"
    }
   ],
   "source": [
    "data.columns"
   ]
  },
  {
   "cell_type": "code",
   "execution_count": 8,
   "id": "5fa8e8bc",
   "metadata": {},
   "outputs": [
    {
     "name": "stdout",
     "output_type": "stream",
     "text": [
      "Categorical : ['Nationality', 'DistributionChannel', 'MarketSegment'] \n",
      "\n",
      "Numerical : ['Unnamed: 0', 'ID', 'Age', 'DaysSinceCreation', 'AverageLeadTime', 'LodgingRevenue', 'OtherRevenue', 'BookingsCanceled', 'BookingsNoShowed', 'BookingsCheckedIn', 'PersonsNights', 'RoomNights', 'DaysSinceLastStay', 'DaysSinceFirstStay', 'SRHighFloor', 'SRLowFloor', 'SRAccessibleRoom', 'SRMediumFloor', 'SRBathtub', 'SRShower', 'SRCrib', 'SRKingSizeBed', 'SRTwinBed', 'SRNearElevator', 'SRAwayFromElevator', 'SRNoAlcoholInMiniBar', 'SRQuietRoom']\n"
     ]
    }
   ],
   "source": [
    "data_cat = data.select_dtypes(include = 'object')\n",
    "data_cat = data_cat.columns.tolist()\n",
    "print('Categorical :', data_cat, '\\n')\n",
    "\n",
    "data_num = data.select_dtypes(exclude= 'object')\n",
    "data_num = data_num.columns.tolist()\n",
    "print('Numerical :', data_num)"
   ]
  },
  {
   "cell_type": "code",
   "execution_count": 9,
   "id": "400a2e02",
   "metadata": {},
   "outputs": [
    {
     "name": "stdout",
     "output_type": "stream",
     "text": [
      "Nationality ['PRT' 'DEU' 'FRA' 'JPN' 'IRL' 'ESP' 'BEL' 'NLD' 'AUT' 'ITA' 'CHN' 'RUS'\n",
      " 'POL' 'USA' 'HUN' 'CRI' 'MEX' 'CHE' 'ROU' 'GBR' 'BIH' 'BRA' 'FIN' 'AGO'\n",
      " 'CAN' 'ZAF' 'TWN' 'GRC' 'AUS' 'ISR' 'BGR' 'SAU' 'SWE' 'CYP' 'ARG' 'ARM'\n",
      " 'CHL' 'MAR' 'MOZ' 'KOR' 'TUN' 'DNK' 'NOR' 'MYS' 'EGY' 'IND' 'HRV' 'CPV'\n",
      " 'JOR' 'COD' 'DZA' 'LUX' 'TUR' 'IRN' 'LBY' 'PAN' 'COL' 'VEN' 'GNB' 'CZE'\n",
      " 'AND' 'SVN' 'PER' 'ATF' 'UGA' 'AZE' 'NZL' 'LTU' 'SRB' 'EST' 'KAZ' 'KWT'\n",
      " 'IDN' 'UKR' 'SVK' 'MLI' 'ARE' 'BGD' 'THA' 'TZA' 'LVA' 'PHL' 'BHR' 'NAM'\n",
      " 'BOL' 'SGP' 'CMR' 'MLT' 'URY' 'PAK' 'JAM' 'ECU' 'SYC' 'QAT' 'PRY' 'BRB'\n",
      " 'OMN' 'TMP' 'ABW' 'LBN' 'AIA' 'SLV' 'DMA' 'CUB' 'VNM' 'GEO' 'IRQ' 'GAB'\n",
      " 'PYF' 'LIE' 'SEN' 'BLR' 'ISL' 'DOM' 'GUY' 'LCA' 'ATA' 'NGA' 'RWA' 'CIV'\n",
      " 'ALB' 'MKD' 'MNE' 'GTM' 'GHA' 'MDV' 'MCO' 'MUS' 'SYR' 'TGO' 'LKA' 'SUR'\n",
      " 'KEN' 'MRT' 'HKG' 'CAF' 'NCL' 'STP' 'UZB' 'KIR' 'SDN' 'PRI' 'KNA' 'TJK'\n",
      " 'SLE' 'LAO' 'COM' 'ETH' 'FRO' 'BEN' 'ZWE' 'ASM' 'BWA' 'ERI' 'SPM' 'JEY'\n",
      " 'GNQ' 'MDG' 'GIN' 'NIC' 'SWZ' 'CYM' 'SOM' 'ATG' 'KGZ' 'FLK' 'GIB' 'BHS'\n",
      " 'SMR' 'UMI' 'HTI' 'TKM' 'PNG' 'MMR' 'WLF' 'WSM' 'IOT' 'VIR' 'NRU' 'MWI'\n",
      " 'VCT' 'GUF' 'PCN' 'FJI' 'TON' 'TCD' 'YEM' 'NPL'] \n",
      "\n",
      "DistributionChannel ['Corporate' 'Travel Agent/Operator' 'Direct' 'Electronic Distribution'] \n",
      "\n",
      "MarketSegment ['Corporate' 'Travel Agent/Operator' 'Other' 'Direct' 'Complementary'\n",
      " 'Groups' 'Aviation'] \n",
      "\n"
     ]
    }
   ],
   "source": [
    "for i in data_cat:\n",
    "  print(f'{i}',data[i].unique(), '\\n')"
   ]
  },
  {
   "cell_type": "code",
   "execution_count": 10,
   "id": "5616bb73",
   "metadata": {},
   "outputs": [
    {
     "name": "stdout",
     "output_type": "stream",
     "text": [
      "Unnamed: 0 [    0     1     2 ... 82577 82578 82579] \n",
      "\n",
      "ID [    1     2     3 ... 82578 82579 82580] \n",
      "\n",
      "Age [ 51.  nan  31.  60.  54.  49.  32.  42.  25.  27.  58.  56.  57.  68.\n",
      "  72.  71.  24.  26.  50.  52.  36.  64.  65.  47.  67.  39.  41.  43.\n",
      "   3.  63.  30.  28.  18.  53.  48.  17.  38.  40.  59.  13.  61.  69.\n",
      "  55.  70.  34.  66.  82.  35.   6.  62.  45.  37.  29.  10.   8.   7.\n",
      "   4.  44.   9.  33.   5.  46.  20.  14.  74.  11.  73.   1.  22.  19.\n",
      "  78.  77.  21.  76.  75.  15.  83.  12.  23.  80.  79.  16.  -7.  81.\n",
      " 114.  84.  -9.  85.  87. -11.  89.  91.  88.  86. -10.  -6.  -1. 110.\n",
      "   2.  92. 113.  90.   0. 122.  96. 109.] \n",
      "\n",
      "DaysSinceCreation [ 150 1095 1094 ...   14   13   12] \n",
      "\n",
      "AverageLeadTime [ 45  61   0  93  58  38  96  60  87  11 109  63   2  95   7  94   1  85\n",
      "  78  13  67  65  80  98  97  57   6  72  70 103  49  86  41  69  89  59\n",
      "  99  43  52  68  10  71  81  46  84  55  75  54  50  29  77  40  18  42\n",
      "  91  28  27  44  23 101   3  56  83  39  66   4  31  12  24 102  33  32\n",
      "  25  20   5  35 106  21  30  73   9  16  48  36  79  17  34  64  62   8\n",
      "  47  15  53  14 105  88  22 129 137  92  51  19 132  26 128 139  76  74\n",
      " 121 126 111 147 100  37 152 115 116  90 117 118 158 114 162 133 108 167\n",
      " 164 161 107 150 119 149 124 145 113 110 157 112 130 151 131 134 122 176\n",
      " 177 127 156 189 138 143 185 136  82 140 123 135 165 191 120 159 170 195\n",
      " 163 154 199 125 141 197 194 186 166 148 198 169 168 144 209 104 208 216\n",
      " 142 222 210 180 201 226 153 184 215 190 228 183 181 230 196 212 217 248\n",
      " 233 249 211 192 255 146 188 220 213 200 247 203 240 231 207 206 256 155\n",
      " 243 238 251 160 224 265 235 273 241 172 174 218 171 239 232 225 221 229\n",
      " 173 179 254 178 193 269 283 175 261 257 250 278 187 182 292 259 285 237\n",
      " 295 202 296 242 301 409 272 274 280 236 268 302 205 214 306 219 307 320\n",
      " 303 258 304 287 204 330 317 308 227 234 277 246 346 245 252 288 318 315\n",
      " 253 359 362 286 271 291 244 299 294 276 336 332 328 223 281 305 349 260\n",
      " 338 262 266 279 335 377 326 284 386 267 290 275 311 282 313 270 345 300\n",
      " 298 350 297 355 353 352 356 334 310 343 342 322 321  -1 348 337 309 340\n",
      " 289 324 327 329 395 394 341 293 344 312 408 434 358 357 423 422 364 448\n",
      " 396 263 351 367 368 462 405 314 414 451 459 316 476 264 381 465 464 463\n",
      " 331 468 479 478 504 457 518 323 325 425 426 424 319 361 521 546 455 469\n",
      " 467 454 535 533 542 543 541 384 508 549 574 483 517 588 474 339 347 333\n",
      " 382 403 494 431] \n",
      "\n",
      "LodgingRevenue [371.   280.     0.   ... 285.56 287.8  288.18] \n",
      "\n",
      "OtherRevenue [105.3   53.     0.   ... 514.5  327.85 156.7 ] \n",
      "\n",
      "BookingsCanceled [1 0 3 2 4 9] \n",
      "\n",
      "BookingsNoShowed [0 1 2 3] \n",
      "\n",
      "BookingsCheckedIn [ 3  1  0  9  2 11 12  7  8  5  6  4 66 15 29 25 10 17 13 26 23 57 40 18\n",
      " 14 24 19 20 34] \n",
      "\n",
      "PersonsNights [  8  10   0   4   6   3  18   1   2  14  15  12  16   9  22  21  30   5\n",
      "  11  13  20   7  17  19  75  33  62  28  27  24  31  38  26  36  32  35\n",
      "  34  73  48  56  39 116  29  44  41  23  68  49  42  25  52  40  51  45\n",
      "  59  78] \n",
      "\n",
      "RoomNights [  5   0   2   3   4  14   1   7   6  11   8  10  18   9  22  17  95  21\n",
      "  16 185  12  13  33  88  31  27  19  15  29  35  30  26  66  37 116  23\n",
      "  34  49  20  40  51  24  28  25  42  59  38  36] \n",
      "\n",
      "DaysSinceLastStay [ 151 1100   -1 ...   25   22   17] \n",
      "\n",
      "DaysSinceFirstStay [1074 1100   -1 ...   15   14   13] \n",
      "\n",
      "SRHighFloor [0 1] \n",
      "\n",
      "SRLowFloor [0 1] \n",
      "\n",
      "SRAccessibleRoom [0 1] \n",
      "\n",
      "SRMediumFloor [0 1] \n",
      "\n",
      "SRBathtub [0 1] \n",
      "\n",
      "SRShower [0 1] \n",
      "\n",
      "SRCrib [0 1] \n",
      "\n",
      "SRKingSizeBed [0 1] \n",
      "\n",
      "SRTwinBed [0 1] \n",
      "\n",
      "SRNearElevator [0 1] \n",
      "\n",
      "SRAwayFromElevator [0 1] \n",
      "\n",
      "SRNoAlcoholInMiniBar [0 1] \n",
      "\n",
      "SRQuietRoom [0 1] \n",
      "\n"
     ]
    }
   ],
   "source": [
    "for i in data_num:\n",
    "  print(f'{i}',data[i].unique(), '\\n')"
   ]
  },
  {
   "cell_type": "code",
   "execution_count": 11,
   "id": "428011c9",
   "metadata": {},
   "outputs": [
    {
     "name": "stdout",
     "output_type": "stream",
     "text": [
      "Data shape : (82580, 30)\n",
      "Data shape after dropping duplicates : (82580, 30)\n"
     ]
    }
   ],
   "source": [
    "# dropping the duplicated rows\n",
    "print('Data shape :', data.shape)\n",
    "\n",
    "data.drop_duplicates(inplace = True)\n",
    "print('Data shape after dropping duplicates :', data.shape)"
   ]
  },
  {
   "cell_type": "code",
   "execution_count": 12,
   "id": "cd01d04e",
   "metadata": {},
   "outputs": [
    {
     "data": {
      "text/plain": [
       "Unnamed: 0                 0\n",
       "ID                         0\n",
       "Nationality                0\n",
       "Age                     3746\n",
       "DaysSinceCreation          0\n",
       "AverageLeadTime            0\n",
       "LodgingRevenue             0\n",
       "OtherRevenue               0\n",
       "BookingsCanceled           0\n",
       "BookingsNoShowed           0\n",
       "BookingsCheckedIn          0\n",
       "PersonsNights              0\n",
       "RoomNights                 0\n",
       "DaysSinceLastStay          0\n",
       "DaysSinceFirstStay         0\n",
       "DistributionChannel        0\n",
       "MarketSegment              0\n",
       "SRHighFloor                0\n",
       "SRLowFloor                 0\n",
       "SRAccessibleRoom           0\n",
       "SRMediumFloor              0\n",
       "SRBathtub                  0\n",
       "SRShower                   0\n",
       "SRCrib                     0\n",
       "SRKingSizeBed              0\n",
       "SRTwinBed                  0\n",
       "SRNearElevator             0\n",
       "SRAwayFromElevator         0\n",
       "SRNoAlcoholInMiniBar       0\n",
       "SRQuietRoom                0\n",
       "dtype: int64"
      ]
     },
     "execution_count": 12,
     "metadata": {},
     "output_type": "execute_result"
    }
   ],
   "source": [
    "#checking null nalues\n",
    "\n",
    "data.isnull().sum()"
   ]
  },
  {
   "cell_type": "code",
   "execution_count": 13,
   "id": "2c38d1ca",
   "metadata": {},
   "outputs": [
    {
     "data": {
      "text/plain": [
       "4.5362073141196415"
      ]
     },
     "execution_count": 13,
     "metadata": {},
     "output_type": "execute_result"
    }
   ],
   "source": [
    "#calculating null percentage for age column\n",
    "\n",
    "(data.Age.isnull().sum()/len(data))*100\n",
    "\n",
    "#There is only 4.5% of null values, so fill with median value of age column"
   ]
  },
  {
   "cell_type": "code",
   "execution_count": 14,
   "id": "d5a0d310",
   "metadata": {},
   "outputs": [],
   "source": [
    "#filling null values\n",
    "data[\"Age\"].fillna(round(data[\"Age\"].mean(),1), inplace = True)"
   ]
  },
  {
   "cell_type": "code",
   "execution_count": 15,
   "id": "52ce5823",
   "metadata": {},
   "outputs": [
    {
     "data": {
      "text/plain": [
       "Unnamed: 0              0\n",
       "ID                      0\n",
       "Nationality             0\n",
       "Age                     0\n",
       "DaysSinceCreation       0\n",
       "AverageLeadTime         0\n",
       "LodgingRevenue          0\n",
       "OtherRevenue            0\n",
       "BookingsCanceled        0\n",
       "BookingsNoShowed        0\n",
       "BookingsCheckedIn       0\n",
       "PersonsNights           0\n",
       "RoomNights              0\n",
       "DaysSinceLastStay       0\n",
       "DaysSinceFirstStay      0\n",
       "DistributionChannel     0\n",
       "MarketSegment           0\n",
       "SRHighFloor             0\n",
       "SRLowFloor              0\n",
       "SRAccessibleRoom        0\n",
       "SRMediumFloor           0\n",
       "SRBathtub               0\n",
       "SRShower                0\n",
       "SRCrib                  0\n",
       "SRKingSizeBed           0\n",
       "SRTwinBed               0\n",
       "SRNearElevator          0\n",
       "SRAwayFromElevator      0\n",
       "SRNoAlcoholInMiniBar    0\n",
       "SRQuietRoom             0\n",
       "dtype: int64"
      ]
     },
     "execution_count": 15,
     "metadata": {},
     "output_type": "execute_result"
    }
   ],
   "source": [
    "#checking again null nalues\n",
    "\n",
    "data.isnull().sum()"
   ]
  },
  {
   "cell_type": "code",
   "execution_count": 16,
   "id": "85a257f8",
   "metadata": {},
   "outputs": [],
   "source": [
    "#considering all the values as 1 which are greater than 1,\n",
    "data['BookingsCheckedIn'] = [1 if i>1 else i for i in data['BookingsCheckedIn'] ]"
   ]
  },
  {
   "cell_type": "code",
   "execution_count": 17,
   "id": "0eda9e9e",
   "metadata": {},
   "outputs": [
    {
     "data": {
      "text/html": [
       "<div>\n",
       "<style scoped>\n",
       "    .dataframe tbody tr th:only-of-type {\n",
       "        vertical-align: middle;\n",
       "    }\n",
       "\n",
       "    .dataframe tbody tr th {\n",
       "        vertical-align: top;\n",
       "    }\n",
       "\n",
       "    .dataframe thead th {\n",
       "        text-align: right;\n",
       "    }\n",
       "</style>\n",
       "<table border=\"1\" class=\"dataframe\">\n",
       "  <thead>\n",
       "    <tr style=\"text-align: right;\">\n",
       "      <th>Nationality</th>\n",
       "      <th>ABW</th>\n",
       "      <th>AGO</th>\n",
       "      <th>AIA</th>\n",
       "      <th>ALB</th>\n",
       "      <th>AND</th>\n",
       "      <th>ARE</th>\n",
       "      <th>ARG</th>\n",
       "      <th>ARM</th>\n",
       "      <th>ASM</th>\n",
       "      <th>ATA</th>\n",
       "      <th>...</th>\n",
       "      <th>UZB</th>\n",
       "      <th>VCT</th>\n",
       "      <th>VEN</th>\n",
       "      <th>VIR</th>\n",
       "      <th>VNM</th>\n",
       "      <th>WLF</th>\n",
       "      <th>WSM</th>\n",
       "      <th>YEM</th>\n",
       "      <th>ZAF</th>\n",
       "      <th>ZWE</th>\n",
       "    </tr>\n",
       "    <tr>\n",
       "      <th>BookingsCheckedIn</th>\n",
       "      <th></th>\n",
       "      <th></th>\n",
       "      <th></th>\n",
       "      <th></th>\n",
       "      <th></th>\n",
       "      <th></th>\n",
       "      <th></th>\n",
       "      <th></th>\n",
       "      <th></th>\n",
       "      <th></th>\n",
       "      <th></th>\n",
       "      <th></th>\n",
       "      <th></th>\n",
       "      <th></th>\n",
       "      <th></th>\n",
       "      <th></th>\n",
       "      <th></th>\n",
       "      <th></th>\n",
       "      <th></th>\n",
       "      <th></th>\n",
       "      <th></th>\n",
       "    </tr>\n",
       "  </thead>\n",
       "  <tbody>\n",
       "    <tr>\n",
       "      <th>0</th>\n",
       "      <td>0.000000</td>\n",
       "      <td>0.001495</td>\n",
       "      <td>0.000052</td>\n",
       "      <td>0.000103</td>\n",
       "      <td>0.000206</td>\n",
       "      <td>0.000155</td>\n",
       "      <td>0.001495</td>\n",
       "      <td>0.000206</td>\n",
       "      <td>0.000000</td>\n",
       "      <td>0.000052</td>\n",
       "      <td>...</td>\n",
       "      <td>0.000000</td>\n",
       "      <td>0.000052</td>\n",
       "      <td>0.000464</td>\n",
       "      <td>0.000000</td>\n",
       "      <td>0.001031</td>\n",
       "      <td>0.000052</td>\n",
       "      <td>0.000000</td>\n",
       "      <td>0.000052</td>\n",
       "      <td>0.000619</td>\n",
       "      <td>0.000000</td>\n",
       "    </tr>\n",
       "    <tr>\n",
       "      <th>1</th>\n",
       "      <td>0.000047</td>\n",
       "      <td>0.002342</td>\n",
       "      <td>0.000032</td>\n",
       "      <td>0.000174</td>\n",
       "      <td>0.000047</td>\n",
       "      <td>0.000411</td>\n",
       "      <td>0.002374</td>\n",
       "      <td>0.000127</td>\n",
       "      <td>0.000047</td>\n",
       "      <td>0.000032</td>\n",
       "      <td>...</td>\n",
       "      <td>0.000032</td>\n",
       "      <td>0.000000</td>\n",
       "      <td>0.000285</td>\n",
       "      <td>0.000016</td>\n",
       "      <td>0.000127</td>\n",
       "      <td>0.000016</td>\n",
       "      <td>0.000016</td>\n",
       "      <td>0.000000</td>\n",
       "      <td>0.000823</td>\n",
       "      <td>0.000016</td>\n",
       "    </tr>\n",
       "  </tbody>\n",
       "</table>\n",
       "<p>2 rows × 188 columns</p>\n",
       "</div>"
      ],
      "text/plain": [
       "Nationality             ABW       AGO       AIA       ALB       AND       ARE  \\\n",
       "BookingsCheckedIn                                                               \n",
       "0                  0.000000  0.001495  0.000052  0.000103  0.000206  0.000155   \n",
       "1                  0.000047  0.002342  0.000032  0.000174  0.000047  0.000411   \n",
       "\n",
       "Nationality             ARG       ARM       ASM       ATA  ...       UZB  \\\n",
       "BookingsCheckedIn                                          ...             \n",
       "0                  0.001495  0.000206  0.000000  0.000052  ...  0.000000   \n",
       "1                  0.002374  0.000127  0.000047  0.000032  ...  0.000032   \n",
       "\n",
       "Nationality             VCT       VEN       VIR       VNM       WLF       WSM  \\\n",
       "BookingsCheckedIn                                                               \n",
       "0                  0.000052  0.000464  0.000000  0.001031  0.000052  0.000000   \n",
       "1                  0.000000  0.000285  0.000016  0.000127  0.000016  0.000016   \n",
       "\n",
       "Nationality             YEM       ZAF       ZWE  \n",
       "BookingsCheckedIn                                \n",
       "0                  0.000052  0.000619  0.000000  \n",
       "1                  0.000000  0.000823  0.000016  \n",
       "\n",
       "[2 rows x 188 columns]"
      ]
     },
     "metadata": {},
     "output_type": "display_data"
    },
    {
     "data": {
      "text/html": [
       "<div>\n",
       "<style scoped>\n",
       "    .dataframe tbody tr th:only-of-type {\n",
       "        vertical-align: middle;\n",
       "    }\n",
       "\n",
       "    .dataframe tbody tr th {\n",
       "        vertical-align: top;\n",
       "    }\n",
       "\n",
       "    .dataframe thead th {\n",
       "        text-align: right;\n",
       "    }\n",
       "</style>\n",
       "<table border=\"1\" class=\"dataframe\">\n",
       "  <thead>\n",
       "    <tr style=\"text-align: right;\">\n",
       "      <th>DistributionChannel</th>\n",
       "      <th>Corporate</th>\n",
       "      <th>Direct</th>\n",
       "      <th>Electronic Distribution</th>\n",
       "      <th>Travel Agent/Operator</th>\n",
       "    </tr>\n",
       "    <tr>\n",
       "      <th>BookingsCheckedIn</th>\n",
       "      <th></th>\n",
       "      <th></th>\n",
       "      <th></th>\n",
       "      <th></th>\n",
       "    </tr>\n",
       "  </thead>\n",
       "  <tbody>\n",
       "    <tr>\n",
       "      <th>0</th>\n",
       "      <td>0.011653</td>\n",
       "      <td>0.167578</td>\n",
       "      <td>0.001031</td>\n",
       "      <td>0.819738</td>\n",
       "    </tr>\n",
       "    <tr>\n",
       "      <th>1</th>\n",
       "      <td>0.037018</td>\n",
       "      <td>0.133875</td>\n",
       "      <td>0.007723</td>\n",
       "      <td>0.821384</td>\n",
       "    </tr>\n",
       "  </tbody>\n",
       "</table>\n",
       "</div>"
      ],
      "text/plain": [
       "DistributionChannel  Corporate    Direct  Electronic Distribution  \\\n",
       "BookingsCheckedIn                                                   \n",
       "0                     0.011653  0.167578                 0.001031   \n",
       "1                     0.037018  0.133875                 0.007723   \n",
       "\n",
       "DistributionChannel  Travel Agent/Operator  \n",
       "BookingsCheckedIn                           \n",
       "0                                 0.819738  \n",
       "1                                 0.821384  "
      ]
     },
     "metadata": {},
     "output_type": "display_data"
    },
    {
     "data": {
      "text/html": [
       "<div>\n",
       "<style scoped>\n",
       "    .dataframe tbody tr th:only-of-type {\n",
       "        vertical-align: middle;\n",
       "    }\n",
       "\n",
       "    .dataframe tbody tr th {\n",
       "        vertical-align: top;\n",
       "    }\n",
       "\n",
       "    .dataframe thead th {\n",
       "        text-align: right;\n",
       "    }\n",
       "</style>\n",
       "<table border=\"1\" class=\"dataframe\">\n",
       "  <thead>\n",
       "    <tr style=\"text-align: right;\">\n",
       "      <th>MarketSegment</th>\n",
       "      <th>Aviation</th>\n",
       "      <th>Complementary</th>\n",
       "      <th>Corporate</th>\n",
       "      <th>Direct</th>\n",
       "      <th>Groups</th>\n",
       "      <th>Other</th>\n",
       "      <th>Travel Agent/Operator</th>\n",
       "    </tr>\n",
       "    <tr>\n",
       "      <th>BookingsCheckedIn</th>\n",
       "      <th></th>\n",
       "      <th></th>\n",
       "      <th></th>\n",
       "      <th></th>\n",
       "      <th></th>\n",
       "      <th></th>\n",
       "      <th></th>\n",
       "    </tr>\n",
       "  </thead>\n",
       "  <tbody>\n",
       "    <tr>\n",
       "      <th>0</th>\n",
       "      <td>0.000206</td>\n",
       "      <td>0.004898</td>\n",
       "      <td>0.009333</td>\n",
       "      <td>0.164226</td>\n",
       "      <td>0.084459</td>\n",
       "      <td>0.619006</td>\n",
       "      <td>0.117872</td>\n",
       "    </tr>\n",
       "    <tr>\n",
       "      <th>1</th>\n",
       "      <td>0.003782</td>\n",
       "      <td>0.006156</td>\n",
       "      <td>0.030925</td>\n",
       "      <td>0.128082</td>\n",
       "      <td>0.124442</td>\n",
       "      <td>0.561074</td>\n",
       "      <td>0.145539</td>\n",
       "    </tr>\n",
       "  </tbody>\n",
       "</table>\n",
       "</div>"
      ],
      "text/plain": [
       "MarketSegment      Aviation  Complementary  Corporate    Direct    Groups  \\\n",
       "BookingsCheckedIn                                                           \n",
       "0                  0.000206       0.004898   0.009333  0.164226  0.084459   \n",
       "1                  0.003782       0.006156   0.030925  0.128082  0.124442   \n",
       "\n",
       "MarketSegment         Other  Travel Agent/Operator  \n",
       "BookingsCheckedIn                                   \n",
       "0                  0.619006               0.117872  \n",
       "1                  0.561074               0.145539  "
      ]
     },
     "metadata": {},
     "output_type": "display_data"
    }
   ],
   "source": [
    "\n",
    "for col in data.select_dtypes(include='object'):\n",
    "    #if data[col].nunique() <=4:\n",
    "    display(pd.crosstab(data['BookingsCheckedIn'], data[col], normalize='index'))"
   ]
  },
  {
   "cell_type": "code",
   "execution_count": 18,
   "id": "4010846a",
   "metadata": {},
   "outputs": [],
   "source": [
    "# dropping columns which are not required \n",
    "data = data.drop(columns = ['Unnamed: 0'])\n",
    "data = data.drop(columns = ['ID'])\n",
    "data = data.drop(columns = ['Nationality'])"
   ]
  },
  {
   "cell_type": "markdown",
   "id": "c75117a8",
   "metadata": {},
   "source": [
    "# Exploratory Data Analysis"
   ]
  },
  {
   "cell_type": "code",
   "execution_count": 19,
   "id": "6430fa49",
   "metadata": {},
   "outputs": [
    {
     "data": {
      "text/plain": [
       "Travel Agent/Operator      67798\n",
       "Direct                     11709\n",
       "Corporate                   2565\n",
       "Electronic Distribution      508\n",
       "Name: DistributionChannel, dtype: int64"
      ]
     },
     "execution_count": 19,
     "metadata": {},
     "output_type": "execute_result"
    }
   ],
   "source": [
    "data['DistributionChannel'].value_counts()"
   ]
  },
  {
   "cell_type": "code",
   "execution_count": 20,
   "id": "c03dc46e",
   "metadata": {},
   "outputs": [
    {
     "data": {
      "image/png": "[encoded data removed]",
      "text/plain": [
       "<Figure size 864x360 with 1 Axes>"
      ]
     },
     "metadata": {
      "needs_background": "light"
     },
     "output_type": "display_data"
    }
   ],
   "source": [
    "plt.figure(figsize = (12, 5))\n",
    "sns.countplot(x = 'DistributionChannel', data=data,\n",
    "                order = data['DistributionChannel'].value_counts(ascending = True).index)\n",
    "plt.xlabel('Type of DistributionChannel')\n",
    "plt.title(f'Distribution of type of DistributionChannel')\n",
    "sns.despine()"
   ]
  },
  {
   "cell_type": "code",
   "execution_count": 21,
   "id": "654bc16d",
   "metadata": {},
   "outputs": [
    {
     "data": {
      "text/plain": [
       "Other                    47457\n",
       "Travel Agent/Operator    11482\n",
       "Direct                   11278\n",
       "Groups                    9501\n",
       "Corporate                 2135\n",
       "Complementary              484\n",
       "Aviation                   243\n",
       "Name: MarketSegment, dtype: int64"
      ]
     },
     "execution_count": 21,
     "metadata": {},
     "output_type": "execute_result"
    }
   ],
   "source": [
    "data['MarketSegment'].value_counts()"
   ]
  },
  {
   "cell_type": "code",
   "execution_count": 22,
   "id": "6db93bcc",
   "metadata": {},
   "outputs": [
    {
     "data": {
      "image/png": "[encoded data removed]",
      "text/plain": [
       "<Figure size 864x360 with 1 Axes>"
      ]
     },
     "metadata": {
      "needs_background": "light"
     },
     "output_type": "display_data"
    }
   ],
   "source": [
    "plt.figure(figsize = (12, 5))\n",
    "sns.countplot(x = 'MarketSegment', data=data,\n",
    "                order = data['DistributionChannel'].value_counts(ascending = True).index)\n",
    "plt.xlabel('Type of MarketSegment')\n",
    "plt.title(f'Distribution of type of MarketSegment')\n",
    "sns.despine()"
   ]
  },
  {
   "cell_type": "code",
   "execution_count": 23,
   "id": "36396ee9",
   "metadata": {},
   "outputs": [
    {
     "data": {
      "text/html": [
       "<div>\n",
       "<style scoped>\n",
       "    .dataframe tbody tr th:only-of-type {\n",
       "        vertical-align: middle;\n",
       "    }\n",
       "\n",
       "    .dataframe tbody tr th {\n",
       "        vertical-align: top;\n",
       "    }\n",
       "\n",
       "    .dataframe thead th {\n",
       "        text-align: right;\n",
       "    }\n",
       "</style>\n",
       "<table border=\"1\" class=\"dataframe\">\n",
       "  <thead>\n",
       "    <tr style=\"text-align: right;\">\n",
       "      <th></th>\n",
       "      <th>Age</th>\n",
       "      <th>DaysSinceCreation</th>\n",
       "      <th>AverageLeadTime</th>\n",
       "      <th>LodgingRevenue</th>\n",
       "      <th>OtherRevenue</th>\n",
       "      <th>BookingsCanceled</th>\n",
       "      <th>BookingsNoShowed</th>\n",
       "      <th>BookingsCheckedIn</th>\n",
       "      <th>PersonsNights</th>\n",
       "      <th>RoomNights</th>\n",
       "      <th>...</th>\n",
       "      <th>SRMediumFloor</th>\n",
       "      <th>SRBathtub</th>\n",
       "      <th>SRShower</th>\n",
       "      <th>SRCrib</th>\n",
       "      <th>SRKingSizeBed</th>\n",
       "      <th>SRTwinBed</th>\n",
       "      <th>SRNearElevator</th>\n",
       "      <th>SRAwayFromElevator</th>\n",
       "      <th>SRNoAlcoholInMiniBar</th>\n",
       "      <th>SRQuietRoom</th>\n",
       "    </tr>\n",
       "  </thead>\n",
       "  <tbody>\n",
       "    <tr>\n",
       "      <th>Age</th>\n",
       "      <td>1.000000</td>\n",
       "      <td>0.122045</td>\n",
       "      <td>0.246567</td>\n",
       "      <td>0.049517</td>\n",
       "      <td>0.112194</td>\n",
       "      <td>0.004293</td>\n",
       "      <td>0.006297</td>\n",
       "      <td>0.194878</td>\n",
       "      <td>0.108699</td>\n",
       "      <td>0.122475</td>\n",
       "      <td>...</td>\n",
       "      <td>0.007020</td>\n",
       "      <td>-0.017081</td>\n",
       "      <td>0.010611</td>\n",
       "      <td>-0.115343</td>\n",
       "      <td>-0.003033</td>\n",
       "      <td>0.013386</td>\n",
       "      <td>0.012987</td>\n",
       "      <td>0.009425</td>\n",
       "      <td>-0.010680</td>\n",
       "      <td>0.013932</td>\n",
       "    </tr>\n",
       "    <tr>\n",
       "      <th>DaysSinceCreation</th>\n",
       "      <td>0.122045</td>\n",
       "      <td>1.000000</td>\n",
       "      <td>0.132253</td>\n",
       "      <td>0.085673</td>\n",
       "      <td>0.153800</td>\n",
       "      <td>0.018090</td>\n",
       "      <td>0.012581</td>\n",
       "      <td>0.415514</td>\n",
       "      <td>0.238082</td>\n",
       "      <td>0.228044</td>\n",
       "      <td>...</td>\n",
       "      <td>0.004831</td>\n",
       "      <td>-0.010994</td>\n",
       "      <td>-0.006291</td>\n",
       "      <td>-0.036748</td>\n",
       "      <td>-0.027906</td>\n",
       "      <td>-0.025316</td>\n",
       "      <td>-0.002045</td>\n",
       "      <td>0.010351</td>\n",
       "      <td>-0.011250</td>\n",
       "      <td>-0.055090</td>\n",
       "    </tr>\n",
       "    <tr>\n",
       "      <th>AverageLeadTime</th>\n",
       "      <td>0.246567</td>\n",
       "      <td>0.132253</td>\n",
       "      <td>1.000000</td>\n",
       "      <td>0.213989</td>\n",
       "      <td>0.238732</td>\n",
       "      <td>-0.015530</td>\n",
       "      <td>-0.011905</td>\n",
       "      <td>0.419362</td>\n",
       "      <td>0.349180</td>\n",
       "      <td>0.313593</td>\n",
       "      <td>...</td>\n",
       "      <td>-0.000392</td>\n",
       "      <td>-0.006810</td>\n",
       "      <td>0.008143</td>\n",
       "      <td>-0.039513</td>\n",
       "      <td>-0.014470</td>\n",
       "      <td>0.080111</td>\n",
       "      <td>0.000262</td>\n",
       "      <td>-0.000218</td>\n",
       "      <td>-0.006315</td>\n",
       "      <td>0.008595</td>\n",
       "    </tr>\n",
       "    <tr>\n",
       "      <th>LodgingRevenue</th>\n",
       "      <td>0.049517</td>\n",
       "      <td>0.085673</td>\n",
       "      <td>0.213989</td>\n",
       "      <td>1.000000</td>\n",
       "      <td>0.525288</td>\n",
       "      <td>0.070747</td>\n",
       "      <td>0.062404</td>\n",
       "      <td>0.445869</td>\n",
       "      <td>0.651218</td>\n",
       "      <td>0.690811</td>\n",
       "      <td>...</td>\n",
       "      <td>0.005712</td>\n",
       "      <td>0.005081</td>\n",
       "      <td>0.011728</td>\n",
       "      <td>-0.015679</td>\n",
       "      <td>0.014073</td>\n",
       "      <td>0.010036</td>\n",
       "      <td>0.004305</td>\n",
       "      <td>0.012000</td>\n",
       "      <td>-0.000964</td>\n",
       "      <td>0.052264</td>\n",
       "    </tr>\n",
       "    <tr>\n",
       "      <th>OtherRevenue</th>\n",
       "      <td>0.112194</td>\n",
       "      <td>0.153800</td>\n",
       "      <td>0.238732</td>\n",
       "      <td>0.525288</td>\n",
       "      <td>1.000000</td>\n",
       "      <td>0.043721</td>\n",
       "      <td>0.034086</td>\n",
       "      <td>0.328504</td>\n",
       "      <td>0.529203</td>\n",
       "      <td>0.477174</td>\n",
       "      <td>...</td>\n",
       "      <td>0.007167</td>\n",
       "      <td>0.009703</td>\n",
       "      <td>0.011356</td>\n",
       "      <td>0.002525</td>\n",
       "      <td>0.013125</td>\n",
       "      <td>0.015287</td>\n",
       "      <td>0.001098</td>\n",
       "      <td>0.011606</td>\n",
       "      <td>0.004913</td>\n",
       "      <td>0.016047</td>\n",
       "    </tr>\n",
       "    <tr>\n",
       "      <th>BookingsCanceled</th>\n",
       "      <td>0.004293</td>\n",
       "      <td>0.018090</td>\n",
       "      <td>-0.015530</td>\n",
       "      <td>0.070747</td>\n",
       "      <td>0.043721</td>\n",
       "      <td>1.000000</td>\n",
       "      <td>0.314690</td>\n",
       "      <td>0.016027</td>\n",
       "      <td>0.087124</td>\n",
       "      <td>0.198184</td>\n",
       "      <td>...</td>\n",
       "      <td>0.023356</td>\n",
       "      <td>-0.001617</td>\n",
       "      <td>-0.001269</td>\n",
       "      <td>-0.003471</td>\n",
       "      <td>0.017958</td>\n",
       "      <td>-0.007280</td>\n",
       "      <td>-0.000530</td>\n",
       "      <td>0.004246</td>\n",
       "      <td>-0.000335</td>\n",
       "      <td>-0.006286</td>\n",
       "    </tr>\n",
       "    <tr>\n",
       "      <th>BookingsNoShowed</th>\n",
       "      <td>0.006297</td>\n",
       "      <td>0.012581</td>\n",
       "      <td>-0.011905</td>\n",
       "      <td>0.062404</td>\n",
       "      <td>0.034086</td>\n",
       "      <td>0.314690</td>\n",
       "      <td>1.000000</td>\n",
       "      <td>0.011962</td>\n",
       "      <td>0.066664</td>\n",
       "      <td>0.149335</td>\n",
       "      <td>...</td>\n",
       "      <td>-0.000642</td>\n",
       "      <td>-0.001146</td>\n",
       "      <td>-0.000899</td>\n",
       "      <td>-0.002460</td>\n",
       "      <td>0.011400</td>\n",
       "      <td>-0.000660</td>\n",
       "      <td>-0.000376</td>\n",
       "      <td>-0.001288</td>\n",
       "      <td>-0.000238</td>\n",
       "      <td>-0.003834</td>\n",
       "    </tr>\n",
       "    <tr>\n",
       "      <th>BookingsCheckedIn</th>\n",
       "      <td>0.194878</td>\n",
       "      <td>0.415514</td>\n",
       "      <td>0.419362</td>\n",
       "      <td>0.445869</td>\n",
       "      <td>0.328504</td>\n",
       "      <td>0.016027</td>\n",
       "      <td>0.011962</td>\n",
       "      <td>1.000000</td>\n",
       "      <td>0.566825</td>\n",
       "      <td>0.575303</td>\n",
       "      <td>...</td>\n",
       "      <td>0.002061</td>\n",
       "      <td>-0.005135</td>\n",
       "      <td>0.000401</td>\n",
       "      <td>-0.057540</td>\n",
       "      <td>-0.015177</td>\n",
       "      <td>-0.030793</td>\n",
       "      <td>0.003073</td>\n",
       "      <td>0.005675</td>\n",
       "      <td>-0.006884</td>\n",
       "      <td>-0.008988</td>\n",
       "    </tr>\n",
       "    <tr>\n",
       "      <th>PersonsNights</th>\n",
       "      <td>0.108699</td>\n",
       "      <td>0.238082</td>\n",
       "      <td>0.349180</td>\n",
       "      <td>0.651218</td>\n",
       "      <td>0.529203</td>\n",
       "      <td>0.087124</td>\n",
       "      <td>0.066664</td>\n",
       "      <td>0.566825</td>\n",
       "      <td>1.000000</td>\n",
       "      <td>0.847765</td>\n",
       "      <td>...</td>\n",
       "      <td>0.005826</td>\n",
       "      <td>0.017151</td>\n",
       "      <td>0.013756</td>\n",
       "      <td>-0.011227</td>\n",
       "      <td>0.043089</td>\n",
       "      <td>0.005521</td>\n",
       "      <td>0.000809</td>\n",
       "      <td>0.014386</td>\n",
       "      <td>-0.002094</td>\n",
       "      <td>0.031691</td>\n",
       "    </tr>\n",
       "    <tr>\n",
       "      <th>RoomNights</th>\n",
       "      <td>0.122475</td>\n",
       "      <td>0.228044</td>\n",
       "      <td>0.313593</td>\n",
       "      <td>0.690811</td>\n",
       "      <td>0.477174</td>\n",
       "      <td>0.198184</td>\n",
       "      <td>0.149335</td>\n",
       "      <td>0.575303</td>\n",
       "      <td>0.847765</td>\n",
       "      <td>1.000000</td>\n",
       "      <td>...</td>\n",
       "      <td>0.006256</td>\n",
       "      <td>0.017075</td>\n",
       "      <td>0.011510</td>\n",
       "      <td>-0.031799</td>\n",
       "      <td>0.025185</td>\n",
       "      <td>-0.022776</td>\n",
       "      <td>0.000843</td>\n",
       "      <td>0.014260</td>\n",
       "      <td>-0.001782</td>\n",
       "      <td>0.019545</td>\n",
       "    </tr>\n",
       "    <tr>\n",
       "      <th>DaysSinceLastStay</th>\n",
       "      <td>0.155563</td>\n",
       "      <td>0.906897</td>\n",
       "      <td>0.240568</td>\n",
       "      <td>0.194200</td>\n",
       "      <td>0.224432</td>\n",
       "      <td>-0.009863</td>\n",
       "      <td>-0.004555</td>\n",
       "      <td>0.650647</td>\n",
       "      <td>0.366827</td>\n",
       "      <td>0.348944</td>\n",
       "      <td>...</td>\n",
       "      <td>0.003944</td>\n",
       "      <td>-0.009843</td>\n",
       "      <td>-0.004663</td>\n",
       "      <td>-0.044692</td>\n",
       "      <td>-0.020976</td>\n",
       "      <td>-0.022680</td>\n",
       "      <td>-0.000907</td>\n",
       "      <td>0.011230</td>\n",
       "      <td>-0.010771</td>\n",
       "      <td>-0.037203</td>\n",
       "    </tr>\n",
       "    <tr>\n",
       "      <th>DaysSinceFirstStay</th>\n",
       "      <td>0.156535</td>\n",
       "      <td>0.910991</td>\n",
       "      <td>0.236681</td>\n",
       "      <td>0.203964</td>\n",
       "      <td>0.231602</td>\n",
       "      <td>0.022468</td>\n",
       "      <td>0.013749</td>\n",
       "      <td>0.652936</td>\n",
       "      <td>0.376101</td>\n",
       "      <td>0.369661</td>\n",
       "      <td>...</td>\n",
       "      <td>0.006010</td>\n",
       "      <td>-0.010159</td>\n",
       "      <td>-0.004909</td>\n",
       "      <td>-0.044463</td>\n",
       "      <td>-0.018616</td>\n",
       "      <td>-0.023848</td>\n",
       "      <td>-0.001021</td>\n",
       "      <td>0.012382</td>\n",
       "      <td>-0.010821</td>\n",
       "      <td>-0.038325</td>\n",
       "    </tr>\n",
       "    <tr>\n",
       "      <th>SRHighFloor</th>\n",
       "      <td>-0.034827</td>\n",
       "      <td>-0.025304</td>\n",
       "      <td>-0.021801</td>\n",
       "      <td>0.014946</td>\n",
       "      <td>0.001598</td>\n",
       "      <td>-0.005110</td>\n",
       "      <td>-0.004823</td>\n",
       "      <td>-0.024095</td>\n",
       "      <td>0.015981</td>\n",
       "      <td>0.000784</td>\n",
       "      <td>...</td>\n",
       "      <td>-0.004728</td>\n",
       "      <td>0.025784</td>\n",
       "      <td>0.013971</td>\n",
       "      <td>-0.001151</td>\n",
       "      <td>0.092749</td>\n",
       "      <td>0.022090</td>\n",
       "      <td>0.009201</td>\n",
       "      <td>0.103462</td>\n",
       "      <td>-0.002458</td>\n",
       "      <td>0.056131</td>\n",
       "    </tr>\n",
       "    <tr>\n",
       "      <th>SRLowFloor</th>\n",
       "      <td>0.012578</td>\n",
       "      <td>-0.007220</td>\n",
       "      <td>-0.003751</td>\n",
       "      <td>0.004505</td>\n",
       "      <td>0.004479</td>\n",
       "      <td>-0.001152</td>\n",
       "      <td>-0.000817</td>\n",
       "      <td>-0.006267</td>\n",
       "      <td>0.008163</td>\n",
       "      <td>0.003008</td>\n",
       "      <td>...</td>\n",
       "      <td>0.009662</td>\n",
       "      <td>-0.002008</td>\n",
       "      <td>-0.001576</td>\n",
       "      <td>-0.004309</td>\n",
       "      <td>0.005709</td>\n",
       "      <td>0.008387</td>\n",
       "      <td>-0.000658</td>\n",
       "      <td>0.008526</td>\n",
       "      <td>-0.000416</td>\n",
       "      <td>0.013133</td>\n",
       "    </tr>\n",
       "    <tr>\n",
       "      <th>SRAccessibleRoom</th>\n",
       "      <td>0.006920</td>\n",
       "      <td>0.001808</td>\n",
       "      <td>-0.001699</td>\n",
       "      <td>0.000159</td>\n",
       "      <td>0.000483</td>\n",
       "      <td>-0.000486</td>\n",
       "      <td>-0.000344</td>\n",
       "      <td>0.005253</td>\n",
       "      <td>0.002992</td>\n",
       "      <td>0.004075</td>\n",
       "      <td>...</td>\n",
       "      <td>-0.000474</td>\n",
       "      <td>-0.000847</td>\n",
       "      <td>0.035869</td>\n",
       "      <td>-0.001817</td>\n",
       "      <td>-0.002203</td>\n",
       "      <td>0.008688</td>\n",
       "      <td>0.130690</td>\n",
       "      <td>-0.000952</td>\n",
       "      <td>-0.000176</td>\n",
       "      <td>0.003084</td>\n",
       "    </tr>\n",
       "    <tr>\n",
       "      <th>SRMediumFloor</th>\n",
       "      <td>0.007020</td>\n",
       "      <td>0.004831</td>\n",
       "      <td>-0.000392</td>\n",
       "      <td>0.005712</td>\n",
       "      <td>0.007167</td>\n",
       "      <td>0.023356</td>\n",
       "      <td>-0.000642</td>\n",
       "      <td>0.002061</td>\n",
       "      <td>0.005826</td>\n",
       "      <td>0.006256</td>\n",
       "      <td>...</td>\n",
       "      <td>1.000000</td>\n",
       "      <td>0.006120</td>\n",
       "      <td>-0.001239</td>\n",
       "      <td>0.007481</td>\n",
       "      <td>0.000280</td>\n",
       "      <td>0.008826</td>\n",
       "      <td>0.022905</td>\n",
       "      <td>0.053048</td>\n",
       "      <td>-0.000327</td>\n",
       "      <td>0.022390</td>\n",
       "    </tr>\n",
       "    <tr>\n",
       "      <th>SRBathtub</th>\n",
       "      <td>-0.017081</td>\n",
       "      <td>-0.010994</td>\n",
       "      <td>-0.006810</td>\n",
       "      <td>0.005081</td>\n",
       "      <td>0.009703</td>\n",
       "      <td>-0.001617</td>\n",
       "      <td>-0.001146</td>\n",
       "      <td>-0.005135</td>\n",
       "      <td>0.017151</td>\n",
       "      <td>0.017075</td>\n",
       "      <td>...</td>\n",
       "      <td>0.006120</td>\n",
       "      <td>1.000000</td>\n",
       "      <td>-0.002211</td>\n",
       "      <td>0.028537</td>\n",
       "      <td>0.026550</td>\n",
       "      <td>-0.001388</td>\n",
       "      <td>-0.000924</td>\n",
       "      <td>0.012224</td>\n",
       "      <td>-0.000584</td>\n",
       "      <td>0.010956</td>\n",
       "    </tr>\n",
       "    <tr>\n",
       "      <th>SRShower</th>\n",
       "      <td>0.010611</td>\n",
       "      <td>-0.006291</td>\n",
       "      <td>0.008143</td>\n",
       "      <td>0.011728</td>\n",
       "      <td>0.011356</td>\n",
       "      <td>-0.001269</td>\n",
       "      <td>-0.000899</td>\n",
       "      <td>0.000401</td>\n",
       "      <td>0.013756</td>\n",
       "      <td>0.011510</td>\n",
       "      <td>...</td>\n",
       "      <td>-0.001239</td>\n",
       "      <td>-0.002211</td>\n",
       "      <td>1.000000</td>\n",
       "      <td>-0.004745</td>\n",
       "      <td>0.018733</td>\n",
       "      <td>0.002151</td>\n",
       "      <td>-0.000725</td>\n",
       "      <td>0.007311</td>\n",
       "      <td>-0.000458</td>\n",
       "      <td>0.012752</td>\n",
       "    </tr>\n",
       "    <tr>\n",
       "      <th>SRCrib</th>\n",
       "      <td>-0.115343</td>\n",
       "      <td>-0.036748</td>\n",
       "      <td>-0.039513</td>\n",
       "      <td>-0.015679</td>\n",
       "      <td>0.002525</td>\n",
       "      <td>-0.003471</td>\n",
       "      <td>-0.002460</td>\n",
       "      <td>-0.057540</td>\n",
       "      <td>-0.011227</td>\n",
       "      <td>-0.031799</td>\n",
       "      <td>...</td>\n",
       "      <td>0.007481</td>\n",
       "      <td>0.028537</td>\n",
       "      <td>-0.004745</td>\n",
       "      <td>1.000000</td>\n",
       "      <td>0.023888</td>\n",
       "      <td>-0.040952</td>\n",
       "      <td>-0.001982</td>\n",
       "      <td>0.000446</td>\n",
       "      <td>0.028103</td>\n",
       "      <td>-0.004243</td>\n",
       "    </tr>\n",
       "    <tr>\n",
       "      <th>SRKingSizeBed</th>\n",
       "      <td>-0.003033</td>\n",
       "      <td>-0.027906</td>\n",
       "      <td>-0.014470</td>\n",
       "      <td>0.014073</td>\n",
       "      <td>0.013125</td>\n",
       "      <td>0.017958</td>\n",
       "      <td>0.011400</td>\n",
       "      <td>-0.015177</td>\n",
       "      <td>0.043089</td>\n",
       "      <td>0.025185</td>\n",
       "      <td>...</td>\n",
       "      <td>0.000280</td>\n",
       "      <td>0.026550</td>\n",
       "      <td>0.018733</td>\n",
       "      <td>0.023888</td>\n",
       "      <td>1.000000</td>\n",
       "      <td>-0.284111</td>\n",
       "      <td>0.000304</td>\n",
       "      <td>0.012779</td>\n",
       "      <td>0.001114</td>\n",
       "      <td>0.100021</td>\n",
       "    </tr>\n",
       "    <tr>\n",
       "      <th>SRTwinBed</th>\n",
       "      <td>0.013386</td>\n",
       "      <td>-0.025316</td>\n",
       "      <td>0.080111</td>\n",
       "      <td>0.010036</td>\n",
       "      <td>0.015287</td>\n",
       "      <td>-0.007280</td>\n",
       "      <td>-0.000660</td>\n",
       "      <td>-0.030793</td>\n",
       "      <td>0.005521</td>\n",
       "      <td>-0.022776</td>\n",
       "      <td>...</td>\n",
       "      <td>0.008826</td>\n",
       "      <td>-0.001388</td>\n",
       "      <td>0.002151</td>\n",
       "      <td>-0.040952</td>\n",
       "      <td>-0.284111</td>\n",
       "      <td>1.000000</td>\n",
       "      <td>0.000857</td>\n",
       "      <td>-0.000484</td>\n",
       "      <td>0.008092</td>\n",
       "      <td>0.012553</td>\n",
       "    </tr>\n",
       "    <tr>\n",
       "      <th>SRNearElevator</th>\n",
       "      <td>0.012987</td>\n",
       "      <td>-0.002045</td>\n",
       "      <td>0.000262</td>\n",
       "      <td>0.004305</td>\n",
       "      <td>0.001098</td>\n",
       "      <td>-0.000530</td>\n",
       "      <td>-0.000376</td>\n",
       "      <td>0.003073</td>\n",
       "      <td>0.000809</td>\n",
       "      <td>0.000843</td>\n",
       "      <td>...</td>\n",
       "      <td>0.022905</td>\n",
       "      <td>-0.000924</td>\n",
       "      <td>-0.000725</td>\n",
       "      <td>-0.001982</td>\n",
       "      <td>0.000304</td>\n",
       "      <td>0.000857</td>\n",
       "      <td>1.000000</td>\n",
       "      <td>-0.001038</td>\n",
       "      <td>-0.000192</td>\n",
       "      <td>0.006874</td>\n",
       "    </tr>\n",
       "    <tr>\n",
       "      <th>SRAwayFromElevator</th>\n",
       "      <td>0.009425</td>\n",
       "      <td>0.010351</td>\n",
       "      <td>-0.000218</td>\n",
       "      <td>0.012000</td>\n",
       "      <td>0.011606</td>\n",
       "      <td>0.004246</td>\n",
       "      <td>-0.001288</td>\n",
       "      <td>0.005675</td>\n",
       "      <td>0.014386</td>\n",
       "      <td>0.014260</td>\n",
       "      <td>...</td>\n",
       "      <td>0.053048</td>\n",
       "      <td>0.012224</td>\n",
       "      <td>0.007311</td>\n",
       "      <td>0.000446</td>\n",
       "      <td>0.012779</td>\n",
       "      <td>-0.000484</td>\n",
       "      <td>-0.001038</td>\n",
       "      <td>1.000000</td>\n",
       "      <td>-0.000657</td>\n",
       "      <td>0.059073</td>\n",
       "    </tr>\n",
       "    <tr>\n",
       "      <th>SRNoAlcoholInMiniBar</th>\n",
       "      <td>-0.010680</td>\n",
       "      <td>-0.011250</td>\n",
       "      <td>-0.006315</td>\n",
       "      <td>-0.000964</td>\n",
       "      <td>0.004913</td>\n",
       "      <td>-0.000335</td>\n",
       "      <td>-0.000238</td>\n",
       "      <td>-0.006884</td>\n",
       "      <td>-0.002094</td>\n",
       "      <td>-0.001782</td>\n",
       "      <td>...</td>\n",
       "      <td>-0.000327</td>\n",
       "      <td>-0.000584</td>\n",
       "      <td>-0.000458</td>\n",
       "      <td>0.028103</td>\n",
       "      <td>0.001114</td>\n",
       "      <td>0.008092</td>\n",
       "      <td>-0.000192</td>\n",
       "      <td>-0.000657</td>\n",
       "      <td>1.000000</td>\n",
       "      <td>0.000464</td>\n",
       "    </tr>\n",
       "    <tr>\n",
       "      <th>SRQuietRoom</th>\n",
       "      <td>0.013932</td>\n",
       "      <td>-0.055090</td>\n",
       "      <td>0.008595</td>\n",
       "      <td>0.052264</td>\n",
       "      <td>0.016047</td>\n",
       "      <td>-0.006286</td>\n",
       "      <td>-0.003834</td>\n",
       "      <td>-0.008988</td>\n",
       "      <td>0.031691</td>\n",
       "      <td>0.019545</td>\n",
       "      <td>...</td>\n",
       "      <td>0.022390</td>\n",
       "      <td>0.010956</td>\n",
       "      <td>0.012752</td>\n",
       "      <td>-0.004243</td>\n",
       "      <td>0.100021</td>\n",
       "      <td>0.012553</td>\n",
       "      <td>0.006874</td>\n",
       "      <td>0.059073</td>\n",
       "      <td>0.000464</td>\n",
       "      <td>1.000000</td>\n",
       "    </tr>\n",
       "  </tbody>\n",
       "</table>\n",
       "<p>25 rows × 25 columns</p>\n",
       "</div>"
      ],
      "text/plain": [
       "                           Age  DaysSinceCreation  AverageLeadTime  \\\n",
       "Age                   1.000000           0.122045         0.246567   \n",
       "DaysSinceCreation     0.122045           1.000000         0.132253   \n",
       "AverageLeadTime       0.246567           0.132253         1.000000   \n",
       "LodgingRevenue        0.049517           0.085673         0.213989   \n",
       "OtherRevenue          0.112194           0.153800         0.238732   \n",
       "BookingsCanceled      0.004293           0.018090        -0.015530   \n",
       "BookingsNoShowed      0.006297           0.012581        -0.011905   \n",
       "BookingsCheckedIn     0.194878           0.415514         0.419362   \n",
       "PersonsNights         0.108699           0.238082         0.349180   \n",
       "RoomNights            0.122475           0.228044         0.313593   \n",
       "DaysSinceLastStay     0.155563           0.906897         0.240568   \n",
       "DaysSinceFirstStay    0.156535           0.910991         0.236681   \n",
       "SRHighFloor          -0.034827          -0.025304        -0.021801   \n",
       "SRLowFloor            0.012578          -0.007220        -0.003751   \n",
       "SRAccessibleRoom      0.006920           0.001808        -0.001699   \n",
       "SRMediumFloor         0.007020           0.004831        -0.000392   \n",
       "SRBathtub            -0.017081          -0.010994        -0.006810   \n",
       "SRShower              0.010611          -0.006291         0.008143   \n",
       "SRCrib               -0.115343          -0.036748        -0.039513   \n",
       "SRKingSizeBed        -0.003033          -0.027906        -0.014470   \n",
       "SRTwinBed             0.013386          -0.025316         0.080111   \n",
       "SRNearElevator        0.012987          -0.002045         0.000262   \n",
       "SRAwayFromElevator    0.009425           0.010351        -0.000218   \n",
       "SRNoAlcoholInMiniBar -0.010680          -0.011250        -0.006315   \n",
       "SRQuietRoom           0.013932          -0.055090         0.008595   \n",
       "\n",
       "                      LodgingRevenue  OtherRevenue  BookingsCanceled  \\\n",
       "Age                         0.049517      0.112194          0.004293   \n",
       "DaysSinceCreation           0.085673      0.153800          0.018090   \n",
       "AverageLeadTime             0.213989      0.238732         -0.015530   \n",
       "LodgingRevenue              1.000000      0.525288          0.070747   \n",
       "OtherRevenue                0.525288      1.000000          0.043721   \n",
       "BookingsCanceled            0.070747      0.043721          1.000000   \n",
       "BookingsNoShowed            0.062404      0.034086          0.314690   \n",
       "BookingsCheckedIn           0.445869      0.328504          0.016027   \n",
       "PersonsNights               0.651218      0.529203          0.087124   \n",
       "RoomNights                  0.690811      0.477174          0.198184   \n",
       "DaysSinceLastStay           0.194200      0.224432         -0.009863   \n",
       "DaysSinceFirstStay          0.203964      0.231602          0.022468   \n",
       "SRHighFloor                 0.014946      0.001598         -0.005110   \n",
       "SRLowFloor                  0.004505      0.004479         -0.001152   \n",
       "SRAccessibleRoom            0.000159      0.000483         -0.000486   \n",
       "SRMediumFloor               0.005712      0.007167          0.023356   \n",
       "SRBathtub                   0.005081      0.009703         -0.001617   \n",
       "SRShower                    0.011728      0.011356         -0.001269   \n",
       "SRCrib                     -0.015679      0.002525         -0.003471   \n",
       "SRKingSizeBed               0.014073      0.013125          0.017958   \n",
       "SRTwinBed                   0.010036      0.015287         -0.007280   \n",
       "SRNearElevator              0.004305      0.001098         -0.000530   \n",
       "SRAwayFromElevator          0.012000      0.011606          0.004246   \n",
       "SRNoAlcoholInMiniBar       -0.000964      0.004913         -0.000335   \n",
       "SRQuietRoom                 0.052264      0.016047         -0.006286   \n",
       "\n",
       "                      BookingsNoShowed  BookingsCheckedIn  PersonsNights  \\\n",
       "Age                           0.006297           0.194878       0.108699   \n",
       "DaysSinceCreation             0.012581           0.415514       0.238082   \n",
       "AverageLeadTime              -0.011905           0.419362       0.349180   \n",
       "LodgingRevenue                0.062404           0.445869       0.651218   \n",
       "OtherRevenue                  0.034086           0.328504       0.529203   \n",
       "BookingsCanceled              0.314690           0.016027       0.087124   \n",
       "BookingsNoShowed              1.000000           0.011962       0.066664   \n",
       "BookingsCheckedIn             0.011962           1.000000       0.566825   \n",
       "PersonsNights                 0.066664           0.566825       1.000000   \n",
       "RoomNights                    0.149335           0.575303       0.847765   \n",
       "DaysSinceLastStay            -0.004555           0.650647       0.366827   \n",
       "DaysSinceFirstStay            0.013749           0.652936       0.376101   \n",
       "SRHighFloor                  -0.004823          -0.024095       0.015981   \n",
       "SRLowFloor                   -0.000817          -0.006267       0.008163   \n",
       "SRAccessibleRoom             -0.000344           0.005253       0.002992   \n",
       "SRMediumFloor                -0.000642           0.002061       0.005826   \n",
       "SRBathtub                    -0.001146          -0.005135       0.017151   \n",
       "SRShower                     -0.000899           0.000401       0.013756   \n",
       "SRCrib                       -0.002460          -0.057540      -0.011227   \n",
       "SRKingSizeBed                 0.011400          -0.015177       0.043089   \n",
       "SRTwinBed                    -0.000660          -0.030793       0.005521   \n",
       "SRNearElevator               -0.000376           0.003073       0.000809   \n",
       "SRAwayFromElevator           -0.001288           0.005675       0.014386   \n",
       "SRNoAlcoholInMiniBar         -0.000238          -0.006884      -0.002094   \n",
       "SRQuietRoom                  -0.003834          -0.008988       0.031691   \n",
       "\n",
       "                      RoomNights  ...  SRMediumFloor  SRBathtub  SRShower  \\\n",
       "Age                     0.122475  ...       0.007020  -0.017081  0.010611   \n",
       "DaysSinceCreation       0.228044  ...       0.004831  -0.010994 -0.006291   \n",
       "AverageLeadTime         0.313593  ...      -0.000392  -0.006810  0.008143   \n",
       "LodgingRevenue          0.690811  ...       0.005712   0.005081  0.011728   \n",
       "OtherRevenue            0.477174  ...       0.007167   0.009703  0.011356   \n",
       "BookingsCanceled        0.198184  ...       0.023356  -0.001617 -0.001269   \n",
       "BookingsNoShowed        0.149335  ...      -0.000642  -0.001146 -0.000899   \n",
       "BookingsCheckedIn       0.575303  ...       0.002061  -0.005135  0.000401   \n",
       "PersonsNights           0.847765  ...       0.005826   0.017151  0.013756   \n",
       "RoomNights              1.000000  ...       0.006256   0.017075  0.011510   \n",
       "DaysSinceLastStay       0.348944  ...       0.003944  -0.009843 -0.004663   \n",
       "DaysSinceFirstStay      0.369661  ...       0.006010  -0.010159 -0.004909   \n",
       "SRHighFloor             0.000784  ...      -0.004728   0.025784  0.013971   \n",
       "SRLowFloor              0.003008  ...       0.009662  -0.002008 -0.001576   \n",
       "SRAccessibleRoom        0.004075  ...      -0.000474  -0.000847  0.035869   \n",
       "SRMediumFloor           0.006256  ...       1.000000   0.006120 -0.001239   \n",
       "SRBathtub               0.017075  ...       0.006120   1.000000 -0.002211   \n",
       "SRShower                0.011510  ...      -0.001239  -0.002211  1.000000   \n",
       "SRCrib                 -0.031799  ...       0.007481   0.028537 -0.004745   \n",
       "SRKingSizeBed           0.025185  ...       0.000280   0.026550  0.018733   \n",
       "SRTwinBed              -0.022776  ...       0.008826  -0.001388  0.002151   \n",
       "SRNearElevator          0.000843  ...       0.022905  -0.000924 -0.000725   \n",
       "SRAwayFromElevator      0.014260  ...       0.053048   0.012224  0.007311   \n",
       "SRNoAlcoholInMiniBar   -0.001782  ...      -0.000327  -0.000584 -0.000458   \n",
       "SRQuietRoom             0.019545  ...       0.022390   0.010956  0.012752   \n",
       "\n",
       "                        SRCrib  SRKingSizeBed  SRTwinBed  SRNearElevator  \\\n",
       "Age                  -0.115343      -0.003033   0.013386        0.012987   \n",
       "DaysSinceCreation    -0.036748      -0.027906  -0.025316       -0.002045   \n",
       "AverageLeadTime      -0.039513      -0.014470   0.080111        0.000262   \n",
       "LodgingRevenue       -0.015679       0.014073   0.010036        0.004305   \n",
       "OtherRevenue          0.002525       0.013125   0.015287        0.001098   \n",
       "BookingsCanceled     -0.003471       0.017958  -0.007280       -0.000530   \n",
       "BookingsNoShowed     -0.002460       0.011400  -0.000660       -0.000376   \n",
       "BookingsCheckedIn    -0.057540      -0.015177  -0.030793        0.003073   \n",
       "PersonsNights        -0.011227       0.043089   0.005521        0.000809   \n",
       "RoomNights           -0.031799       0.025185  -0.022776        0.000843   \n",
       "DaysSinceLastStay    -0.044692      -0.020976  -0.022680       -0.000907   \n",
       "DaysSinceFirstStay   -0.044463      -0.018616  -0.023848       -0.001021   \n",
       "SRHighFloor          -0.001151       0.092749   0.022090        0.009201   \n",
       "SRLowFloor           -0.004309       0.005709   0.008387       -0.000658   \n",
       "SRAccessibleRoom     -0.001817      -0.002203   0.008688        0.130690   \n",
       "SRMediumFloor         0.007481       0.000280   0.008826        0.022905   \n",
       "SRBathtub             0.028537       0.026550  -0.001388       -0.000924   \n",
       "SRShower             -0.004745       0.018733   0.002151       -0.000725   \n",
       "SRCrib                1.000000       0.023888  -0.040952       -0.001982   \n",
       "SRKingSizeBed         0.023888       1.000000  -0.284111        0.000304   \n",
       "SRTwinBed            -0.040952      -0.284111   1.000000        0.000857   \n",
       "SRNearElevator       -0.001982       0.000304   0.000857        1.000000   \n",
       "SRAwayFromElevator    0.000446       0.012779  -0.000484       -0.001038   \n",
       "SRNoAlcoholInMiniBar  0.028103       0.001114   0.008092       -0.000192   \n",
       "SRQuietRoom          -0.004243       0.100021   0.012553        0.006874   \n",
       "\n",
       "                      SRAwayFromElevator  SRNoAlcoholInMiniBar  SRQuietRoom  \n",
       "Age                             0.009425             -0.010680     0.013932  \n",
       "DaysSinceCreation               0.010351             -0.011250    -0.055090  \n",
       "AverageLeadTime                -0.000218             -0.006315     0.008595  \n",
       "LodgingRevenue                  0.012000             -0.000964     0.052264  \n",
       "OtherRevenue                    0.011606              0.004913     0.016047  \n",
       "BookingsCanceled                0.004246             -0.000335    -0.006286  \n",
       "BookingsNoShowed               -0.001288             -0.000238    -0.003834  \n",
       "BookingsCheckedIn               0.005675             -0.006884    -0.008988  \n",
       "PersonsNights                   0.014386             -0.002094     0.031691  \n",
       "RoomNights                      0.014260             -0.001782     0.019545  \n",
       "DaysSinceLastStay               0.011230             -0.010771    -0.037203  \n",
       "DaysSinceFirstStay              0.012382             -0.010821    -0.038325  \n",
       "SRHighFloor                     0.103462             -0.002458     0.056131  \n",
       "SRLowFloor                      0.008526             -0.000416     0.013133  \n",
       "SRAccessibleRoom               -0.000952             -0.000176     0.003084  \n",
       "SRMediumFloor                   0.053048             -0.000327     0.022390  \n",
       "SRBathtub                       0.012224             -0.000584     0.010956  \n",
       "SRShower                        0.007311             -0.000458     0.012752  \n",
       "SRCrib                          0.000446              0.028103    -0.004243  \n",
       "SRKingSizeBed                   0.012779              0.001114     0.100021  \n",
       "SRTwinBed                      -0.000484              0.008092     0.012553  \n",
       "SRNearElevator                 -0.001038             -0.000192     0.006874  \n",
       "SRAwayFromElevator              1.000000             -0.000657     0.059073  \n",
       "SRNoAlcoholInMiniBar           -0.000657              1.000000     0.000464  \n",
       "SRQuietRoom                     0.059073              0.000464     1.000000  \n",
       "\n",
       "[25 rows x 25 columns]"
      ]
     },
     "execution_count": 23,
     "metadata": {},
     "output_type": "execute_result"
    }
   ],
   "source": [
    "data.corr()"
   ]
  },
  {
   "cell_type": "code",
   "execution_count": 24,
   "id": "49485ba5",
   "metadata": {},
   "outputs": [
    {
     "data": {
      "image/png": "[encoded data removed]",
      "text/plain": [
       "<Figure size 1800x936 with 2 Axes>"
      ]
     },
     "metadata": {
      "needs_background": "light"
     },
     "output_type": "display_data"
    }
   ],
   "source": [
    "plt.figure(figsize = (25, 13))\n",
    "dataplot = sns.heatmap(data.corr(), cmap=\"YlGnBu\", annot=True)\n",
    "  \n",
    "# displaying heatmap\n",
    "plt.show()"
   ]
  },
  {
   "cell_type": "code",
   "execution_count": 25,
   "id": "3c91a2b1",
   "metadata": {},
   "outputs": [
    {
     "data": {
      "image/png": "[encoded data removed]",
      "text/plain": [
       "<Figure size 1440x1800 with 25 Axes>"
      ]
     },
     "metadata": {
      "needs_background": "light"
     },
     "output_type": "display_data"
    }
   ],
   "source": [
    "data.hist(figsize=(20,25))\n",
    "plt.show()"
   ]
  },
  {
   "cell_type": "code",
   "execution_count": 26,
   "id": "32a02384",
   "metadata": {},
   "outputs": [
    {
     "data": {
      "image/png": "[encoded data removed]",
      "text/plain": [
       "<Figure size 720x360 with 2 Axes>"
      ]
     },
     "metadata": {
      "needs_background": "light"
     },
     "output_type": "display_data"
    },
    {
     "data": {
      "image/png": "[encoded data removed]",
      "text/plain": [
       "<Figure size 720x360 with 2 Axes>"
      ]
     },
     "metadata": {
      "needs_background": "light"
     },
     "output_type": "display_data"
    }
   ],
   "source": [
    "for col in data.select_dtypes(include='object'):\n",
    "    #if data[col].nunique() <=6:\n",
    "    g = sns.catplot(x = col, kind='count', col = 'BookingsCheckedIn', data=data, sharey=False)\n",
    "    g.set_xticklabels(rotation=60)"
   ]
  },
  {
   "cell_type": "code",
   "execution_count": 27,
   "id": "63696201",
   "metadata": {},
   "outputs": [],
   "source": [
    "###########################################"
   ]
  },
  {
   "cell_type": "markdown",
   "id": "fae0557b",
   "metadata": {},
   "source": [
    "#### Plotting box plots to see outliers"
   ]
  },
  {
   "cell_type": "code",
   "execution_count": 28,
   "id": "719b11c6",
   "metadata": {},
   "outputs": [
    {
     "data": {
      "image/png": "[encoded data removed]",
      "text/plain": [
       "<Figure size 432x288 with 1 Axes>"
      ]
     },
     "metadata": {},
     "output_type": "display_data"
    }
   ],
   "source": [
    "import seaborn as sns\n",
    "sns.set_theme(style=\"whitegrid\")\n",
    "\n",
    "ax = sns.boxplot(x=data[\"Age\"])"
   ]
  },
  {
   "cell_type": "code",
   "execution_count": 29,
   "id": "e5c3ed4d",
   "metadata": {},
   "outputs": [
    {
     "data": {
      "image/png": "[encoded data removed]",
      "text/plain": [
       "<Figure size 432x288 with 1 Axes>"
      ]
     },
     "metadata": {},
     "output_type": "display_data"
    }
   ],
   "source": [
    "import seaborn as sns\n",
    "sns.set_theme(style=\"whitegrid\")\n",
    "\n",
    "ax = sns.boxplot(x=data[\"DaysSinceCreation\"])"
   ]
  },
  {
   "cell_type": "code",
   "execution_count": 30,
   "id": "1ad4c71f",
   "metadata": {},
   "outputs": [
    {
     "data": {
      "image/png": "[encoded data removed]",
      "text/plain": [
       "<Figure size 432x288 with 1 Axes>"
      ]
     },
     "metadata": {},
     "output_type": "display_data"
    }
   ],
   "source": [
    "import seaborn as sns\n",
    "sns.set_theme(style=\"whitegrid\")\n",
    "\n",
    "ax = sns.boxplot(x=data[\"AverageLeadTime\"])"
   ]
  },
  {
   "cell_type": "code",
   "execution_count": 31,
   "id": "80e0e60f",
   "metadata": {},
   "outputs": [
    {
     "data": {
      "image/png": "[encoded data removed]",
      "text/plain": [
       "<Figure size 432x288 with 1 Axes>"
      ]
     },
     "metadata": {},
     "output_type": "display_data"
    }
   ],
   "source": [
    "import seaborn as sns\n",
    "sns.set_theme(style=\"whitegrid\")\n",
    "\n",
    "ax = sns.boxplot(x=data[\"LodgingRevenue\"])"
   ]
  },
  {
   "cell_type": "code",
   "execution_count": 32,
   "id": "7e2f8f5a",
   "metadata": {},
   "outputs": [
    {
     "data": {
      "image/png": "[encoded data removed]",
      "text/plain": [
       "<Figure size 432x288 with 1 Axes>"
      ]
     },
     "metadata": {},
     "output_type": "display_data"
    }
   ],
   "source": [
    "import seaborn as sns\n",
    "sns.set_theme(style=\"whitegrid\")\n",
    "\n",
    "ax = sns.boxplot(x=data[\"OtherRevenue\"])"
   ]
  },
  {
   "cell_type": "markdown",
   "id": "ce6864e8",
   "metadata": {},
   "source": [
    "#### From the above boxplots we can find the outliers"
   ]
  },
  {
   "cell_type": "markdown",
   "id": "1b2e4c70",
   "metadata": {},
   "source": [
    "# Handling Outliers"
   ]
  },
  {
   "cell_type": "code",
   "execution_count": 33,
   "id": "cdff917d",
   "metadata": {},
   "outputs": [],
   "source": [
    "# From the above graphs we found outliers in Age,OtherRevenue, LodgingRevenue and AverageLeadTime columns \n",
    "#other than Age column all the columns are affecting to dataset so, we will remove them from dataset"
   ]
  },
  {
   "cell_type": "code",
   "execution_count": 34,
   "id": "289f5d31",
   "metadata": {},
   "outputs": [],
   "source": [
    "#AverageLeadTime\n",
    "Q3 = 104\n",
    "Q1 = 0\n",
    "IQR = Q3-Q1\n",
    "max = Q3 + 1.5*IQR\n",
    "min = Q1 - 1.5*IQR\n",
    "data = data[(data[\"AverageLeadTime\"] < max) & (data[\"AverageLeadTime\"] > min)]"
   ]
  },
  {
   "cell_type": "code",
   "execution_count": 35,
   "id": "9f44b67d",
   "metadata": {},
   "outputs": [],
   "source": [
    "#LodgingRevenue\n",
    "Q3 = 405\n",
    "Q1 = 0\n",
    "IQR = Q3-Q1\n",
    "max = Q3 + 1.5*IQR\n",
    "min = Q1 - 1.5*IQR\n",
    "data = data[(data[\"LodgingRevenue\"] < max) & (data[\"LodgingRevenue\"] > min)]"
   ]
  },
  {
   "cell_type": "code",
   "execution_count": 36,
   "id": "d361aace",
   "metadata": {},
   "outputs": [],
   "source": [
    "#OtherRevenue\n",
    "Q3 =77\n",
    "Q1 = 0\n",
    "IQR = Q3-Q1\n",
    "max = Q3 + 1.5*IQR\n",
    "min = Q1 - 1.5*IQR\n",
    "data = data[(data[\"OtherRevenue\"] < max) & (data[\"OtherRevenue\"] > min)]"
   ]
  },
  {
   "cell_type": "markdown",
   "id": "87d47b05",
   "metadata": {},
   "source": [
    "### Boxplots after removing outliers"
   ]
  },
  {
   "cell_type": "code",
   "execution_count": 37,
   "id": "36d99c75",
   "metadata": {},
   "outputs": [
    {
     "data": {
      "image/png": "[encoded data removed]",
      "text/plain": [
       "<Figure size 432x288 with 1 Axes>"
      ]
     },
     "metadata": {},
     "output_type": "display_data"
    }
   ],
   "source": [
    "import seaborn as sns\n",
    "sns.set_theme(style=\"whitegrid\")\n",
    "\n",
    "ax = sns.boxplot(x=data[\"AverageLeadTime\"])"
   ]
  },
  {
   "cell_type": "code",
   "execution_count": 38,
   "id": "1675ab47",
   "metadata": {},
   "outputs": [
    {
     "data": {
      "image/png": "[encoded data removed]",
      "text/plain": [
       "<Figure size 432x288 with 1 Axes>"
      ]
     },
     "metadata": {},
     "output_type": "display_data"
    }
   ],
   "source": [
    "import seaborn as sns\n",
    "sns.set_theme(style=\"whitegrid\")\n",
    "\n",
    "ax = sns.boxplot(x=data[\"LodgingRevenue\"])"
   ]
  },
  {
   "cell_type": "code",
   "execution_count": 39,
   "id": "05b30e0d",
   "metadata": {},
   "outputs": [
    {
     "data": {
      "image/png": "[encoded data removed]",
      "text/plain": [
       "<Figure size 432x288 with 1 Axes>"
      ]
     },
     "metadata": {},
     "output_type": "display_data"
    }
   ],
   "source": [
    "import seaborn as sns\n",
    "sns.set_theme(style=\"whitegrid\")\n",
    "\n",
    "ax = sns.boxplot(x=data[\"OtherRevenue\"])"
   ]
  },
  {
   "cell_type": "markdown",
   "id": "ecbc33e0",
   "metadata": {},
   "source": [
    "# Encoding (one Hot Encoding)"
   ]
  },
  {
   "cell_type": "code",
   "execution_count": 40,
   "id": "170390ee",
   "metadata": {},
   "outputs": [
    {
     "name": "stdout",
     "output_type": "stream",
     "text": [
      "Categorical : ['DistributionChannel', 'MarketSegment'] \n",
      "\n"
     ]
    }
   ],
   "source": [
    "data_cat = data.select_dtypes(include = 'object')\n",
    "data_cat = data_cat.columns.tolist()\n",
    "print('Categorical :', data_cat, '\\n')"
   ]
  },
  {
   "cell_type": "code",
   "execution_count": 41,
   "id": "2b60543b",
   "metadata": {},
   "outputs": [],
   "source": [
    "dummies1 = pd.get_dummies(data[\"DistributionChannel\"])\n",
    "data= pd.concat([data,dummies1], axis=1)\n",
    "data = data.drop('DistributionChannel',axis=1)"
   ]
  },
  {
   "cell_type": "code",
   "execution_count": 42,
   "id": "590fc964",
   "metadata": {},
   "outputs": [],
   "source": [
    "dummies1 = pd.get_dummies(data[\"MarketSegment\"])\n",
    "data= pd.concat([data,dummies1], axis=1)\n",
    "data = data.drop('MarketSegment',axis=1)"
   ]
  },
  {
   "cell_type": "code",
   "execution_count": 43,
   "id": "4f6f721e",
   "metadata": {},
   "outputs": [
    {
     "data": {
      "text/html": [
       "<div>\n",
       "<style scoped>\n",
       "    .dataframe tbody tr th:only-of-type {\n",
       "        vertical-align: middle;\n",
       "    }\n",
       "\n",
       "    .dataframe tbody tr th {\n",
       "        vertical-align: top;\n",
       "    }\n",
       "\n",
       "    .dataframe thead th {\n",
       "        text-align: right;\n",
       "    }\n",
       "</style>\n",
       "<table border=\"1\" class=\"dataframe\">\n",
       "  <thead>\n",
       "    <tr style=\"text-align: right;\">\n",
       "      <th></th>\n",
       "      <th>Age</th>\n",
       "      <th>DaysSinceCreation</th>\n",
       "      <th>AverageLeadTime</th>\n",
       "      <th>LodgingRevenue</th>\n",
       "      <th>OtherRevenue</th>\n",
       "      <th>BookingsCanceled</th>\n",
       "      <th>BookingsNoShowed</th>\n",
       "      <th>BookingsCheckedIn</th>\n",
       "      <th>PersonsNights</th>\n",
       "      <th>RoomNights</th>\n",
       "      <th>...</th>\n",
       "      <th>Direct</th>\n",
       "      <th>Electronic Distribution</th>\n",
       "      <th>Travel Agent/Operator</th>\n",
       "      <th>Aviation</th>\n",
       "      <th>Complementary</th>\n",
       "      <th>Corporate</th>\n",
       "      <th>Direct</th>\n",
       "      <th>Groups</th>\n",
       "      <th>Other</th>\n",
       "      <th>Travel Agent/Operator</th>\n",
       "    </tr>\n",
       "  </thead>\n",
       "  <tbody>\n",
       "    <tr>\n",
       "      <th>0</th>\n",
       "      <td>51.0</td>\n",
       "      <td>150</td>\n",
       "      <td>45</td>\n",
       "      <td>371.0</td>\n",
       "      <td>105.3</td>\n",
       "      <td>1</td>\n",
       "      <td>0</td>\n",
       "      <td>1</td>\n",
       "      <td>8</td>\n",
       "      <td>5</td>\n",
       "      <td>...</td>\n",
       "      <td>0</td>\n",
       "      <td>0</td>\n",
       "      <td>0</td>\n",
       "      <td>0</td>\n",
       "      <td>0</td>\n",
       "      <td>1</td>\n",
       "      <td>0</td>\n",
       "      <td>0</td>\n",
       "      <td>0</td>\n",
       "      <td>0</td>\n",
       "    </tr>\n",
       "    <tr>\n",
       "      <th>1</th>\n",
       "      <td>45.5</td>\n",
       "      <td>1095</td>\n",
       "      <td>61</td>\n",
       "      <td>280.0</td>\n",
       "      <td>53.0</td>\n",
       "      <td>0</td>\n",
       "      <td>0</td>\n",
       "      <td>1</td>\n",
       "      <td>10</td>\n",
       "      <td>5</td>\n",
       "      <td>...</td>\n",
       "      <td>0</td>\n",
       "      <td>0</td>\n",
       "      <td>1</td>\n",
       "      <td>0</td>\n",
       "      <td>0</td>\n",
       "      <td>0</td>\n",
       "      <td>0</td>\n",
       "      <td>0</td>\n",
       "      <td>0</td>\n",
       "      <td>1</td>\n",
       "    </tr>\n",
       "    <tr>\n",
       "      <th>2</th>\n",
       "      <td>31.0</td>\n",
       "      <td>1095</td>\n",
       "      <td>0</td>\n",
       "      <td>0.0</td>\n",
       "      <td>0.0</td>\n",
       "      <td>0</td>\n",
       "      <td>0</td>\n",
       "      <td>0</td>\n",
       "      <td>0</td>\n",
       "      <td>0</td>\n",
       "      <td>...</td>\n",
       "      <td>0</td>\n",
       "      <td>0</td>\n",
       "      <td>1</td>\n",
       "      <td>0</td>\n",
       "      <td>0</td>\n",
       "      <td>0</td>\n",
       "      <td>0</td>\n",
       "      <td>0</td>\n",
       "      <td>0</td>\n",
       "      <td>1</td>\n",
       "    </tr>\n",
       "    <tr>\n",
       "      <th>3</th>\n",
       "      <td>60.0</td>\n",
       "      <td>1095</td>\n",
       "      <td>93</td>\n",
       "      <td>240.0</td>\n",
       "      <td>60.0</td>\n",
       "      <td>0</td>\n",
       "      <td>0</td>\n",
       "      <td>1</td>\n",
       "      <td>10</td>\n",
       "      <td>5</td>\n",
       "      <td>...</td>\n",
       "      <td>0</td>\n",
       "      <td>0</td>\n",
       "      <td>1</td>\n",
       "      <td>0</td>\n",
       "      <td>0</td>\n",
       "      <td>0</td>\n",
       "      <td>0</td>\n",
       "      <td>0</td>\n",
       "      <td>0</td>\n",
       "      <td>1</td>\n",
       "    </tr>\n",
       "    <tr>\n",
       "      <th>4</th>\n",
       "      <td>51.0</td>\n",
       "      <td>1095</td>\n",
       "      <td>0</td>\n",
       "      <td>0.0</td>\n",
       "      <td>0.0</td>\n",
       "      <td>0</td>\n",
       "      <td>0</td>\n",
       "      <td>0</td>\n",
       "      <td>0</td>\n",
       "      <td>0</td>\n",
       "      <td>...</td>\n",
       "      <td>0</td>\n",
       "      <td>0</td>\n",
       "      <td>1</td>\n",
       "      <td>0</td>\n",
       "      <td>0</td>\n",
       "      <td>0</td>\n",
       "      <td>0</td>\n",
       "      <td>0</td>\n",
       "      <td>0</td>\n",
       "      <td>1</td>\n",
       "    </tr>\n",
       "  </tbody>\n",
       "</table>\n",
       "<p>5 rows × 36 columns</p>\n",
       "</div>"
      ],
      "text/plain": [
       "    Age  DaysSinceCreation  AverageLeadTime  LodgingRevenue  OtherRevenue  \\\n",
       "0  51.0                150               45           371.0         105.3   \n",
       "1  45.5               1095               61           280.0          53.0   \n",
       "2  31.0               1095                0             0.0           0.0   \n",
       "3  60.0               1095               93           240.0          60.0   \n",
       "4  51.0               1095                0             0.0           0.0   \n",
       "\n",
       "   BookingsCanceled  BookingsNoShowed  BookingsCheckedIn  PersonsNights  \\\n",
       "0                 1                 0                  1              8   \n",
       "1                 0                 0                  1             10   \n",
       "2                 0                 0                  0              0   \n",
       "3                 0                 0                  1             10   \n",
       "4                 0                 0                  0              0   \n",
       "\n",
       "   RoomNights  ...  Direct  Electronic Distribution  Travel Agent/Operator  \\\n",
       "0           5  ...       0                        0                      0   \n",
       "1           5  ...       0                        0                      1   \n",
       "2           0  ...       0                        0                      1   \n",
       "3           5  ...       0                        0                      1   \n",
       "4           0  ...       0                        0                      1   \n",
       "\n",
       "   Aviation  Complementary  Corporate  Direct  Groups  Other  \\\n",
       "0         0              0          1       0       0      0   \n",
       "1         0              0          0       0       0      0   \n",
       "2         0              0          0       0       0      0   \n",
       "3         0              0          0       0       0      0   \n",
       "4         0              0          0       0       0      0   \n",
       "\n",
       "   Travel Agent/Operator  \n",
       "0                      0  \n",
       "1                      1  \n",
       "2                      1  \n",
       "3                      1  \n",
       "4                      1  \n",
       "\n",
       "[5 rows x 36 columns]"
      ]
     },
     "execution_count": 43,
     "metadata": {},
     "output_type": "execute_result"
    }
   ],
   "source": [
    "#after encoding\n",
    "data.head()"
   ]
  },
  {
   "cell_type": "code",
   "execution_count": 44,
   "id": "b5d282bf",
   "metadata": {},
   "outputs": [
    {
     "data": {
      "text/plain": [
       "(71888, 36)"
      ]
     },
     "execution_count": 44,
     "metadata": {},
     "output_type": "execute_result"
    }
   ],
   "source": [
    "data.shape"
   ]
  },
  {
   "cell_type": "code",
   "execution_count": 137,
   "id": "100246a3",
   "metadata": {},
   "outputs": [
    {
     "data": {
      "image/png": "[encoded data removed]",
      "text/plain": [
       "<Figure size 576x360 with 1 Axes>"
      ]
     },
     "metadata": {},
     "output_type": "display_data"
    }
   ],
   "source": [
    "plt.figure(figsize = (8, 5))\n",
    "sns.countplot(x = 'BookingsCheckedIn', data=data,\n",
    "                order = data['BookingsCheckedIn'].value_counts(ascending = True).index)\n",
    "plt.xlabel('Type of MarketSegment')\n",
    "plt.title(f'Distribution of type of BookingsCheckedIn')\n",
    "sns.despine()"
   ]
  },
  {
   "cell_type": "code",
   "execution_count": 46,
   "id": "e894fb1f",
   "metadata": {},
   "outputs": [
    {
     "data": {
      "text/plain": [
       "1    52494\n",
       "0    19394\n",
       "Name: BookingsCheckedIn, dtype: int64"
      ]
     },
     "execution_count": 46,
     "metadata": {},
     "output_type": "execute_result"
    }
   ],
   "source": [
    "data['BookingsCheckedIn'].value_counts()"
   ]
  },
  {
   "cell_type": "markdown",
   "id": "806b0051",
   "metadata": {},
   "source": [
    "#### From the above, we conclude that the data is imbalaced data set, so we have balace it and feed to Ml models"
   ]
  },
  {
   "cell_type": "markdown",
   "id": "512f74a8",
   "metadata": {},
   "source": [
    "# Balancing the DATASET"
   ]
  },
  {
   "cell_type": "code",
   "execution_count": 48,
   "id": "fbd7ca4a",
   "metadata": {},
   "outputs": [
    {
     "name": "stdout",
     "output_type": "stream",
     "text": [
      "Requirement already satisfied: imblearn in c:\\users\\brinda\\anaconda3\\lib\\site-packages (0.0)\n",
      "Requirement already satisfied: imbalanced-learn in c:\\users\\brinda\\anaconda3\\lib\\site-packages (from imblearn) (0.9.1)\n",
      "Requirement already satisfied: threadpoolctl>=2.0.0 in c:\\users\\brinda\\anaconda3\\lib\\site-packages (from imbalanced-learn->imblearn) (2.2.0)\n",
      "Requirement already satisfied: joblib>=1.0.0 in c:\\users\\brinda\\anaconda3\\lib\\site-packages (from imbalanced-learn->imblearn) (1.1.0)\n",
      "Requirement already satisfied: scipy>=1.3.2 in c:\\users\\brinda\\anaconda3\\lib\\site-packages (from imbalanced-learn->imblearn) (1.7.3)\n",
      "Requirement already satisfied: numpy>=1.17.3 in c:\\users\\brinda\\anaconda3\\lib\\site-packages (from imbalanced-learn->imblearn) (1.21.5)\n",
      "Requirement already satisfied: scikit-learn>=1.1.0 in c:\\users\\brinda\\anaconda3\\lib\\site-packages (from imbalanced-learn->imblearn) (1.1.2)\n"
     ]
    }
   ],
   "source": [
    "!pip install imblearn "
   ]
  },
  {
   "cell_type": "code",
   "execution_count": 49,
   "id": "b9c2f4ef",
   "metadata": {},
   "outputs": [
    {
     "data": {
      "text/plain": [
       "Index(['Age', 'DaysSinceCreation', 'AverageLeadTime', 'LodgingRevenue',\n",
       "       'OtherRevenue', 'BookingsCanceled', 'BookingsNoShowed',\n",
       "       'BookingsCheckedIn', 'PersonsNights', 'RoomNights', 'DaysSinceLastStay',\n",
       "       'DaysSinceFirstStay', 'SRHighFloor', 'SRLowFloor', 'SRAccessibleRoom',\n",
       "       'SRMediumFloor', 'SRBathtub', 'SRShower', 'SRCrib', 'SRKingSizeBed',\n",
       "       'SRTwinBed', 'SRNearElevator', 'SRAwayFromElevator',\n",
       "       'SRNoAlcoholInMiniBar', 'SRQuietRoom', 'Corporate', 'Direct',\n",
       "       'Electronic Distribution', 'Travel Agent/Operator', 'Aviation',\n",
       "       'Complementary', 'Corporate', 'Direct', 'Groups', 'Other',\n",
       "       'Travel Agent/Operator'],\n",
       "      dtype='object')"
      ]
     },
     "execution_count": 49,
     "metadata": {},
     "output_type": "execute_result"
    }
   ],
   "source": [
    "data.columns"
   ]
  },
  {
   "cell_type": "code",
   "execution_count": 50,
   "id": "a37df8dc",
   "metadata": {},
   "outputs": [
    {
     "data": {
      "text/plain": [
       "(71888, 36)"
      ]
     },
     "execution_count": 50,
     "metadata": {},
     "output_type": "execute_result"
    }
   ],
   "source": [
    "data.shape"
   ]
  },
  {
   "cell_type": "code",
   "execution_count": 51,
   "id": "f405f41f",
   "metadata": {},
   "outputs": [],
   "source": [
    "X = data[['Age','DaysSinceCreation','AverageLeadTime','LodgingRevenue','OtherRevenue', 'BookingsCanceled','BookingsNoShowed','PersonsNights', 'RoomNights', 'DaysSinceLastStay','DaysSinceFirstStay','SRHighFloor','SRLowFloor','SRAccessibleRoom','SRMediumFloor','SRBathtub','SRShower','SRCrib','SRKingSizeBed','SRTwinBed','SRNearElevator','SRAwayFromElevator','SRNoAlcoholInMiniBar','SRQuietRoom','Corporate','Direct','Electronic Distribution','Travel Agent/Operator','Aviation','Complementary','Corporate','Direct','Groups','Other','Travel Agent/Operator']].values\n",
    "y = data[[\"BookingsCheckedIn\"]].values"
   ]
  },
  {
   "cell_type": "code",
   "execution_count": 52,
   "id": "aacf14fe",
   "metadata": {},
   "outputs": [],
   "source": [
    "# train test split\n",
    "\n",
    "from sklearn.model_selection import train_test_split\n",
    "X_train, X_test, y_train, y_test = train_test_split(X, y, test_size = 0.25)"
   ]
  },
  {
   "cell_type": "code",
   "execution_count": 116,
   "id": "a3649a9f",
   "metadata": {},
   "outputs": [],
   "source": [
    "# scaling\n",
    "\n",
    "from sklearn.preprocessing import StandardScaler\n",
    "\n",
    "scaler = StandardScaler()\n",
    "scaler.fit(X_train, y_train) # find mean and standard deviation\n",
    "\n",
    "X_train = scaler.transform(X_train)\n",
    "X_test  = scaler.transform(X_test)"
   ]
  },
  {
   "cell_type": "markdown",
   "id": "76de44b3",
   "metadata": {},
   "source": [
    "# Synthetic Minority - Oversampling"
   ]
  },
  {
   "cell_type": "code",
   "execution_count": 115,
   "id": "e0f9391e",
   "metadata": {},
   "outputs": [],
   "source": [
    "from imblearn.over_sampling import SMOTE\n",
    "smote = SMOTE()\n",
    "X_sm, y_sm = smote.fit_resample(X_train, y_train)"
   ]
  },
  {
   "cell_type": "code",
   "execution_count": 55,
   "id": "2f0db0d7",
   "metadata": {},
   "outputs": [
    {
     "data": {
      "text/plain": [
       "((78534, 41), (78534,))"
      ]
     },
     "execution_count": 55,
     "metadata": {},
     "output_type": "execute_result"
    }
   ],
   "source": [
    "X_sm.shape, y_sm.shape"
   ]
  },
  {
   "cell_type": "markdown",
   "id": "a495e6d9",
   "metadata": {},
   "source": [
    "## Oversampling followed by Undersampling"
   ]
  },
  {
   "cell_type": "code",
   "execution_count": 56,
   "id": "d61052b6",
   "metadata": {},
   "outputs": [],
   "source": [
    "from imblearn.combine import SMOTEENN\n",
    "smt = SMOTEENN()\n",
    "X_sn, y_sn = smt.fit_resample(X_train, y_train)"
   ]
  },
  {
   "cell_type": "code",
   "execution_count": 57,
   "id": "fdb2d5c9",
   "metadata": {},
   "outputs": [
    {
     "data": {
      "text/plain": [
       "((78296, 41), (78296,))"
      ]
     },
     "execution_count": 57,
     "metadata": {},
     "output_type": "execute_result"
    }
   ],
   "source": [
    "X_sn.shape, y_sn.shape"
   ]
  },
  {
   "cell_type": "code",
   "execution_count": 58,
   "id": "2a64fc41",
   "metadata": {},
   "outputs": [],
   "source": [
    "X_sn = pd.DataFrame(X_sn)\n",
    "y_sn = pd.DataFrame(y_sn)"
   ]
  },
  {
   "cell_type": "markdown",
   "id": "a30926a2",
   "metadata": {},
   "source": [
    "# ML Models"
   ]
  },
  {
   "cell_type": "markdown",
   "id": "6c6a531e",
   "metadata": {},
   "source": [
    "## Logistic Regression"
   ]
  },
  {
   "cell_type": "markdown",
   "id": "7cf707fa",
   "metadata": {},
   "source": [
    "### SMOTE"
   ]
  },
  {
   "cell_type": "code",
   "execution_count": 59,
   "id": "e15098bb",
   "metadata": {},
   "outputs": [
    {
     "name": "stdout",
     "output_type": "stream",
     "text": [
      "Accuracy : 1.0 \n",
      "f1-score : 1.0 \n",
      "AUROC : 1.0\n"
     ]
    }
   ],
   "source": [
    "from sklearn.linear_model import LogisticRegression\n",
    "from sklearn.metrics import roc_auc_score, confusion_matrix, f1_score\n",
    "\n",
    "def LR(X, y):\n",
    "  logistic = LogisticRegression()\n",
    "  logistic.fit(X, y)\n",
    "\n",
    "  y_pred = logistic.predict(X_test)\n",
    "  print('Accuracy :', logistic.score(X_test,y_test).round(3),\n",
    "        '\\nf1-score :', f1_score(y_test, y_pred).round(3),\n",
    "        '\\nAUROC :', roc_auc_score(y_test, y_pred).round(3))\n",
    "\n",
    "  \n",
    "\n",
    "LR(X_sm, y_sm)"
   ]
  },
  {
   "cell_type": "markdown",
   "id": "b002d634",
   "metadata": {},
   "source": [
    "### SMOTEENN"
   ]
  },
  {
   "cell_type": "code",
   "execution_count": 60,
   "id": "a7c1e1bb",
   "metadata": {},
   "outputs": [
    {
     "name": "stderr",
     "output_type": "stream",
     "text": [
      "C:\\Users\\Brinda\\anaconda3\\lib\\site-packages\\sklearn\\utils\\validation.py:1111: DataConversionWarning: A column-vector y was passed when a 1d array was expected. Please change the shape of y to (n_samples, ), for example using ravel().\n",
      "  y = column_or_1d(y, warn=True)\n"
     ]
    },
    {
     "name": "stdout",
     "output_type": "stream",
     "text": [
      "Accuracy : 1.0 \n",
      "f1-score : 1.0 \n",
      "AUROC : 1.0\n"
     ]
    }
   ],
   "source": [
    "LR(X_sn, y_sn)"
   ]
  },
  {
   "cell_type": "markdown",
   "id": "928c4730",
   "metadata": {},
   "source": [
    "## KNN Classifier"
   ]
  },
  {
   "cell_type": "markdown",
   "id": "d89b4303",
   "metadata": {},
   "source": [
    "### SMOTE"
   ]
  },
  {
   "cell_type": "code",
   "execution_count": 61,
   "id": "0214a6c9",
   "metadata": {},
   "outputs": [
    {
     "data": {
      "text/html": [
       "<div>\n",
       "<style scoped>\n",
       "    .dataframe tbody tr th:only-of-type {\n",
       "        vertical-align: middle;\n",
       "    }\n",
       "\n",
       "    .dataframe tbody tr th {\n",
       "        vertical-align: top;\n",
       "    }\n",
       "\n",
       "    .dataframe thead th {\n",
       "        text-align: right;\n",
       "    }\n",
       "</style>\n",
       "<table border=\"1\" class=\"dataframe\">\n",
       "  <thead>\n",
       "    <tr style=\"text-align: right;\">\n",
       "      <th></th>\n",
       "      <th>K Value</th>\n",
       "      <th>Cross_val_Score</th>\n",
       "    </tr>\n",
       "  </thead>\n",
       "  <tbody>\n",
       "    <tr>\n",
       "      <th>0</th>\n",
       "      <td>1</td>\n",
       "      <td>0.99890</td>\n",
       "    </tr>\n",
       "    <tr>\n",
       "      <th>2</th>\n",
       "      <td>3</td>\n",
       "      <td>0.99817</td>\n",
       "    </tr>\n",
       "    <tr>\n",
       "      <th>1</th>\n",
       "      <td>2</td>\n",
       "      <td>0.99798</td>\n",
       "    </tr>\n",
       "    <tr>\n",
       "      <th>4</th>\n",
       "      <td>5</td>\n",
       "      <td>0.99747</td>\n",
       "    </tr>\n",
       "    <tr>\n",
       "      <th>3</th>\n",
       "      <td>4</td>\n",
       "      <td>0.99736</td>\n",
       "    </tr>\n",
       "  </tbody>\n",
       "</table>\n",
       "</div>"
      ],
      "text/plain": [
       "   K Value  Cross_val_Score\n",
       "0        1          0.99890\n",
       "2        3          0.99817\n",
       "1        2          0.99798\n",
       "4        5          0.99747\n",
       "3        4          0.99736"
      ]
     },
     "execution_count": 61,
     "metadata": {},
     "output_type": "execute_result"
    }
   ],
   "source": [
    "from sklearn.neighbors import KNeighborsClassifier\n",
    "from sklearn.model_selection import cross_val_score\n",
    "\n",
    "K = []\n",
    "\n",
    "for i in [1,2,3,4,5,6,7,8,9,10,15,20,30]: # looping to find best K\n",
    "    knn = KNeighborsClassifier(i) #initialising the model\n",
    "    knn.fit(X_sm,y_sm) # training the model\n",
    "\n",
    "    K.append({'K Value' : i, 'Cross_val_Score': np.mean(cross_val_score(knn, X_sm, y_sm, cv = 5)).round(5)})\n",
    "    score = pd.DataFrame(K, columns = ['K Value', 'Cross_val_Score'])\n",
    "\n",
    "score.sort_values(by = 'Cross_val_Score', ascending = False).head()"
   ]
  },
  {
   "cell_type": "code",
   "execution_count": 62,
   "id": "8bc50ff9",
   "metadata": {},
   "outputs": [
    {
     "name": "stdout",
     "output_type": "stream",
     "text": [
      "DISTANCE at p = 1:\n",
      "Accuracy : 0.999 \n",
      "f1-score : 0.999 \n",
      "AUROC : 0.999\n"
     ]
    }
   ],
   "source": [
    "def KNN(K, w, p):\n",
    "  knn = KNeighborsClassifier(n_neighbors = K, weights = w, p = p)\n",
    "  knn.fit(X_sm,y_sm)\n",
    "\n",
    "  y_pred = knn.predict(X_test)\n",
    "\n",
    "  print(w.upper(), f'at p = {p}:')\n",
    "  print('Accuracy :', knn.score(X_test,y_test).round(3),\n",
    "        '\\nf1-score :', f1_score(y_test, y_pred).round(3),\n",
    "        '\\nAUROC :', roc_auc_score(y_test, y_pred).round(3))\n",
    "\n",
    "\n",
    "KNN(1, 'distance', 1)"
   ]
  },
  {
   "cell_type": "code",
   "execution_count": 63,
   "id": "441d83ce",
   "metadata": {},
   "outputs": [
    {
     "name": "stdout",
     "output_type": "stream",
     "text": [
      "DISTANCE at p = 2:\n",
      "Accuracy : 0.998 \n",
      "f1-score : 0.999 \n",
      "AUROC : 0.998\n"
     ]
    }
   ],
   "source": [
    "KNN(1, 'distance', 2)"
   ]
  },
  {
   "cell_type": "code",
   "execution_count": 64,
   "id": "206c60e1",
   "metadata": {},
   "outputs": [
    {
     "name": "stdout",
     "output_type": "stream",
     "text": [
      "UNIFORM at p = 2:\n",
      "Accuracy : 0.998 \n",
      "f1-score : 0.999 \n",
      "AUROC : 0.998\n"
     ]
    }
   ],
   "source": [
    "KNN(1, 'uniform', 2)"
   ]
  },
  {
   "cell_type": "markdown",
   "id": "3516f45a",
   "metadata": {},
   "source": [
    "### SMOTEENN"
   ]
  },
  {
   "cell_type": "code",
   "execution_count": 65,
   "id": "a3afc539",
   "metadata": {},
   "outputs": [
    {
     "name": "stderr",
     "output_type": "stream",
     "text": [
      "C:\\Users\\Brinda\\anaconda3\\lib\\site-packages\\sklearn\\neighbors\\_classification.py:207: DataConversionWarning: A column-vector y was passed when a 1d array was expected. Please change the shape of y to (n_samples,), for example using ravel().\n",
      "  return self._fit(X, y)\n",
      "C:\\Users\\Brinda\\anaconda3\\lib\\site-packages\\sklearn\\neighbors\\_classification.py:207: DataConversionWarning: A column-vector y was passed when a 1d array was expected. Please change the shape of y to (n_samples,), for example using ravel().\n",
      "  return self._fit(X, y)\n",
      "C:\\Users\\Brinda\\anaconda3\\lib\\site-packages\\sklearn\\neighbors\\_classification.py:207: DataConversionWarning: A column-vector y was passed when a 1d array was expected. Please change the shape of y to (n_samples,), for example using ravel().\n",
      "  return self._fit(X, y)\n",
      "C:\\Users\\Brinda\\anaconda3\\lib\\site-packages\\sklearn\\neighbors\\_classification.py:207: DataConversionWarning: A column-vector y was passed when a 1d array was expected. Please change the shape of y to (n_samples,), for example using ravel().\n",
      "  return self._fit(X, y)\n",
      "C:\\Users\\Brinda\\anaconda3\\lib\\site-packages\\sklearn\\neighbors\\_classification.py:207: DataConversionWarning: A column-vector y was passed when a 1d array was expected. Please change the shape of y to (n_samples,), for example using ravel().\n",
      "  return self._fit(X, y)\n",
      "C:\\Users\\Brinda\\anaconda3\\lib\\site-packages\\sklearn\\neighbors\\_classification.py:207: DataConversionWarning: A column-vector y was passed when a 1d array was expected. Please change the shape of y to (n_samples,), for example using ravel().\n",
      "  return self._fit(X, y)\n",
      "C:\\Users\\Brinda\\anaconda3\\lib\\site-packages\\sklearn\\neighbors\\_classification.py:207: DataConversionWarning: A column-vector y was passed when a 1d array was expected. Please change the shape of y to (n_samples,), for example using ravel().\n",
      "  return self._fit(X, y)\n",
      "C:\\Users\\Brinda\\anaconda3\\lib\\site-packages\\sklearn\\neighbors\\_classification.py:207: DataConversionWarning: A column-vector y was passed when a 1d array was expected. Please change the shape of y to (n_samples,), for example using ravel().\n",
      "  return self._fit(X, y)\n",
      "C:\\Users\\Brinda\\anaconda3\\lib\\site-packages\\sklearn\\neighbors\\_classification.py:207: DataConversionWarning: A column-vector y was passed when a 1d array was expected. Please change the shape of y to (n_samples,), for example using ravel().\n",
      "  return self._fit(X, y)\n",
      "C:\\Users\\Brinda\\anaconda3\\lib\\site-packages\\sklearn\\neighbors\\_classification.py:207: DataConversionWarning: A column-vector y was passed when a 1d array was expected. Please change the shape of y to (n_samples,), for example using ravel().\n",
      "  return self._fit(X, y)\n",
      "C:\\Users\\Brinda\\anaconda3\\lib\\site-packages\\sklearn\\neighbors\\_classification.py:207: DataConversionWarning: A column-vector y was passed when a 1d array was expected. Please change the shape of y to (n_samples,), for example using ravel().\n",
      "  return self._fit(X, y)\n",
      "C:\\Users\\Brinda\\anaconda3\\lib\\site-packages\\sklearn\\neighbors\\_classification.py:207: DataConversionWarning: A column-vector y was passed when a 1d array was expected. Please change the shape of y to (n_samples,), for example using ravel().\n",
      "  return self._fit(X, y)\n",
      "C:\\Users\\Brinda\\anaconda3\\lib\\site-packages\\sklearn\\neighbors\\_classification.py:207: DataConversionWarning: A column-vector y was passed when a 1d array was expected. Please change the shape of y to (n_samples,), for example using ravel().\n",
      "  return self._fit(X, y)\n"
     ]
    },
    {
     "data": {
      "text/html": [
       "<div>\n",
       "<style scoped>\n",
       "    .dataframe tbody tr th:only-of-type {\n",
       "        vertical-align: middle;\n",
       "    }\n",
       "\n",
       "    .dataframe tbody tr th {\n",
       "        vertical-align: top;\n",
       "    }\n",
       "\n",
       "    .dataframe thead th {\n",
       "        text-align: right;\n",
       "    }\n",
       "</style>\n",
       "<table border=\"1\" class=\"dataframe\">\n",
       "  <thead>\n",
       "    <tr style=\"text-align: right;\">\n",
       "      <th></th>\n",
       "      <th>K Value</th>\n",
       "      <th>Cross_val_Score</th>\n",
       "    </tr>\n",
       "  </thead>\n",
       "  <tbody>\n",
       "    <tr>\n",
       "      <th>0</th>\n",
       "      <td>1</td>\n",
       "      <td>0.99890</td>\n",
       "    </tr>\n",
       "    <tr>\n",
       "      <th>2</th>\n",
       "      <td>3</td>\n",
       "      <td>0.99817</td>\n",
       "    </tr>\n",
       "    <tr>\n",
       "      <th>1</th>\n",
       "      <td>2</td>\n",
       "      <td>0.99798</td>\n",
       "    </tr>\n",
       "    <tr>\n",
       "      <th>4</th>\n",
       "      <td>5</td>\n",
       "      <td>0.99747</td>\n",
       "    </tr>\n",
       "    <tr>\n",
       "      <th>3</th>\n",
       "      <td>4</td>\n",
       "      <td>0.99736</td>\n",
       "    </tr>\n",
       "  </tbody>\n",
       "</table>\n",
       "</div>"
      ],
      "text/plain": [
       "   K Value  Cross_val_Score\n",
       "0        1          0.99890\n",
       "2        3          0.99817\n",
       "1        2          0.99798\n",
       "4        5          0.99747\n",
       "3        4          0.99736"
      ]
     },
     "execution_count": 65,
     "metadata": {},
     "output_type": "execute_result"
    }
   ],
   "source": [
    "K = []\n",
    "\n",
    "for i in [1,2,3,4,5,6,7,8,9,10,15,20,30]: # looping to find best K\n",
    "    knn = KNeighborsClassifier(i) #initialising the model\n",
    "    knn.fit(X_sn,y_sn) # training the model\n",
    "\n",
    "    K.append({'K Value' : i, 'Cross_val_Score': np.mean(cross_val_score(knn, X_sm, y_sm, cv = 5)).round(5)})\n",
    "    score = pd.DataFrame(K, columns = ['K Value', 'Cross_val_Score'])\n",
    "\n",
    "score.sort_values(by = 'Cross_val_Score', ascending = False).head()"
   ]
  },
  {
   "cell_type": "code",
   "execution_count": 66,
   "id": "a09be10a",
   "metadata": {},
   "outputs": [
    {
     "name": "stdout",
     "output_type": "stream",
     "text": [
      "DISTANCE at p = 1:\n",
      "Accuracy : 0.999 \n",
      "f1-score : 0.999 \n",
      "AUROC : 0.999\n"
     ]
    }
   ],
   "source": [
    "def KNN(K,w,p):\n",
    "  knn = KNeighborsClassifier(n_neighbors=K, weights=w, p=p)\n",
    "  knn.fit(X_sm,y_sm)\n",
    "\n",
    "  y_pred = knn.predict(X_test)\n",
    "\n",
    "  print(w.upper(), f'at p = {p}:')\n",
    "  print('Accuracy :', knn.score(X_test,y_test).round(3),\n",
    "        '\\nf1-score :', f1_score(y_test, y_pred).round(3),\n",
    "        '\\nAUROC :', roc_auc_score(y_test, y_pred).round(3))\n",
    "\n",
    "  \n",
    "\n",
    "KNN(1, 'distance', 1)"
   ]
  },
  {
   "cell_type": "code",
   "execution_count": 67,
   "id": "725c7beb",
   "metadata": {},
   "outputs": [
    {
     "name": "stdout",
     "output_type": "stream",
     "text": [
      "DISTANCE at p = 2:\n",
      "Accuracy : 0.998 \n",
      "f1-score : 0.999 \n",
      "AUROC : 0.998\n"
     ]
    }
   ],
   "source": [
    "KNN(1,'distance', 2)"
   ]
  },
  {
   "cell_type": "code",
   "execution_count": 68,
   "id": "9d055f95",
   "metadata": {},
   "outputs": [
    {
     "name": "stdout",
     "output_type": "stream",
     "text": [
      "UNIFORM at p = 1:\n",
      "Accuracy : 0.999 \n",
      "f1-score : 0.999 \n",
      "AUROC : 0.999\n"
     ]
    }
   ],
   "source": [
    "KNN(1, 'uniform', 1)"
   ]
  },
  {
   "cell_type": "markdown",
   "id": "7117836c",
   "metadata": {},
   "source": [
    "## Decision Tree Classifier"
   ]
  },
  {
   "cell_type": "markdown",
   "id": "ab20f3e8",
   "metadata": {},
   "source": [
    "### SMOTE"
   ]
  },
  {
   "cell_type": "code",
   "execution_count": 69,
   "id": "65bf1d2c",
   "metadata": {},
   "outputs": [
    {
     "data": {
      "text/html": [
       "<div>\n",
       "<style scoped>\n",
       "    .dataframe tbody tr th:only-of-type {\n",
       "        vertical-align: middle;\n",
       "    }\n",
       "\n",
       "    .dataframe tbody tr th {\n",
       "        vertical-align: top;\n",
       "    }\n",
       "\n",
       "    .dataframe thead th {\n",
       "        text-align: right;\n",
       "    }\n",
       "</style>\n",
       "<table border=\"1\" class=\"dataframe\">\n",
       "  <thead>\n",
       "    <tr style=\"text-align: right;\">\n",
       "      <th></th>\n",
       "      <th>Depth</th>\n",
       "      <th>Cross_val_Score</th>\n",
       "    </tr>\n",
       "  </thead>\n",
       "  <tbody>\n",
       "    <tr>\n",
       "      <th>0</th>\n",
       "      <td>1</td>\n",
       "      <td>1.0</td>\n",
       "    </tr>\n",
       "    <tr>\n",
       "      <th>1</th>\n",
       "      <td>2</td>\n",
       "      <td>1.0</td>\n",
       "    </tr>\n",
       "    <tr>\n",
       "      <th>3</th>\n",
       "      <td>4</td>\n",
       "      <td>1.0</td>\n",
       "    </tr>\n",
       "    <tr>\n",
       "      <th>4</th>\n",
       "      <td>5</td>\n",
       "      <td>1.0</td>\n",
       "    </tr>\n",
       "    <tr>\n",
       "      <th>6</th>\n",
       "      <td>7</td>\n",
       "      <td>1.0</td>\n",
       "    </tr>\n",
       "  </tbody>\n",
       "</table>\n",
       "</div>"
      ],
      "text/plain": [
       "   Depth  Cross_val_Score\n",
       "0      1              1.0\n",
       "1      2              1.0\n",
       "3      4              1.0\n",
       "4      5              1.0\n",
       "6      7              1.0"
      ]
     },
     "execution_count": 69,
     "metadata": {},
     "output_type": "execute_result"
    }
   ],
   "source": [
    "from sklearn.tree import DecisionTreeClassifier\n",
    "\n",
    "DT = []\n",
    "\n",
    "for depth in [1,2,3,4,5,6,7,8,9,10,20]:\n",
    "  dt = DecisionTreeClassifier(max_depth=depth)\n",
    "  dt.fit(X_sm, y_sm)\n",
    "  valAccuracy = cross_val_score(dt, X_sm, y_sm, cv=10)\n",
    "  DT.append({'Depth' : depth, 'Cross_val_Score': np.mean(valAccuracy).round(5)})\n",
    "  score = pd.DataFrame(DT, columns = ['Depth', 'Cross_val_Score'])\n",
    "\n",
    "score.sort_values(by = 'Cross_val_Score', ascending = False).head()"
   ]
  },
  {
   "cell_type": "code",
   "execution_count": 70,
   "id": "2d3bf6da",
   "metadata": {},
   "outputs": [
    {
     "name": "stdout",
     "output_type": "stream",
     "text": [
      "Accuracy : 1.0 \n",
      "f1-score : 1.0 \n",
      "AUROC : 1.0\n"
     ]
    }
   ],
   "source": [
    "def DT(i):\n",
    "  dt = DecisionTreeClassifier(max_depth=i)\n",
    "  dt.fit(X_sm,y_sm)\n",
    "\n",
    "  y_pred = dt.predict(X_test)\n",
    "\n",
    "  print('Accuracy :', dt.score(X_test,y_test).round(3),\n",
    "        '\\nf1-score :', f1_score(y_test, y_pred).round(3),\n",
    "        '\\nAUROC :', roc_auc_score(y_test, y_pred).round(3))\n",
    "\n",
    "  \n",
    "\n",
    "DT(2)"
   ]
  },
  {
   "cell_type": "markdown",
   "id": "c395464e",
   "metadata": {},
   "source": [
    "### SMOTEENN"
   ]
  },
  {
   "cell_type": "code",
   "execution_count": 71,
   "id": "c43e8844",
   "metadata": {},
   "outputs": [
    {
     "data": {
      "text/html": [
       "<div>\n",
       "<style scoped>\n",
       "    .dataframe tbody tr th:only-of-type {\n",
       "        vertical-align: middle;\n",
       "    }\n",
       "\n",
       "    .dataframe tbody tr th {\n",
       "        vertical-align: top;\n",
       "    }\n",
       "\n",
       "    .dataframe thead th {\n",
       "        text-align: right;\n",
       "    }\n",
       "</style>\n",
       "<table border=\"1\" class=\"dataframe\">\n",
       "  <thead>\n",
       "    <tr style=\"text-align: right;\">\n",
       "      <th></th>\n",
       "      <th>Depth</th>\n",
       "      <th>Cross_val_Score</th>\n",
       "    </tr>\n",
       "  </thead>\n",
       "  <tbody>\n",
       "    <tr>\n",
       "      <th>0</th>\n",
       "      <td>1</td>\n",
       "      <td>1.0</td>\n",
       "    </tr>\n",
       "    <tr>\n",
       "      <th>1</th>\n",
       "      <td>2</td>\n",
       "      <td>1.0</td>\n",
       "    </tr>\n",
       "    <tr>\n",
       "      <th>2</th>\n",
       "      <td>3</td>\n",
       "      <td>1.0</td>\n",
       "    </tr>\n",
       "    <tr>\n",
       "      <th>3</th>\n",
       "      <td>4</td>\n",
       "      <td>1.0</td>\n",
       "    </tr>\n",
       "    <tr>\n",
       "      <th>5</th>\n",
       "      <td>6</td>\n",
       "      <td>1.0</td>\n",
       "    </tr>\n",
       "  </tbody>\n",
       "</table>\n",
       "</div>"
      ],
      "text/plain": [
       "   Depth  Cross_val_Score\n",
       "0      1              1.0\n",
       "1      2              1.0\n",
       "2      3              1.0\n",
       "3      4              1.0\n",
       "5      6              1.0"
      ]
     },
     "execution_count": 71,
     "metadata": {},
     "output_type": "execute_result"
    }
   ],
   "source": [
    "from sklearn.tree import DecisionTreeClassifier\n",
    "\n",
    "DT = []\n",
    "\n",
    "for depth in [1,2,3,4,5,6,7,8,9,10,20]:\n",
    "  dt = DecisionTreeClassifier(max_depth=depth)\n",
    "  dt.fit(X_sn, y_sn)\n",
    "  valAccuracy = cross_val_score(dt, X_sm, y_sm, cv=10)\n",
    "  DT.append({'Depth' : depth, 'Cross_val_Score': np.mean(valAccuracy).round(5)})\n",
    "  score = pd.DataFrame(DT, columns = ['Depth', 'Cross_val_Score'])\n",
    "\n",
    "score.sort_values(by = 'Cross_val_Score', ascending = False).head()"
   ]
  },
  {
   "cell_type": "code",
   "execution_count": 72,
   "id": "b59462ed",
   "metadata": {},
   "outputs": [
    {
     "name": "stdout",
     "output_type": "stream",
     "text": [
      "Accuracy : 1.0 \n",
      "f1-score : 1.0 \n",
      "AUROC : 1.0\n"
     ]
    }
   ],
   "source": [
    "def DT(i):\n",
    "  dt = DecisionTreeClassifier(max_depth=i)\n",
    "  dt.fit(X_sm,y_sm)\n",
    "\n",
    "  y_pred = dt.predict(X_test)\n",
    "\n",
    "  print('Accuracy :', dt.score(X_test,y_test).round(3),\n",
    "        '\\nf1-score :', f1_score(y_test, y_pred).round(3),\n",
    "        '\\nAUROC :', roc_auc_score(y_test, y_pred).round(3))\n",
    "\n",
    "\n",
    "DT(3)"
   ]
  },
  {
   "cell_type": "markdown",
   "id": "c65c756c",
   "metadata": {},
   "source": [
    "## Random Forest Classifier"
   ]
  },
  {
   "cell_type": "markdown",
   "id": "befa0bf8",
   "metadata": {},
   "source": [
    "### SMOTE"
   ]
  },
  {
   "cell_type": "code",
   "execution_count": 73,
   "id": "42c1c0d6",
   "metadata": {},
   "outputs": [
    {
     "name": "stdout",
     "output_type": "stream",
     "text": [
      "Accuracy : 1.0 \n",
      "f1-score : 1.0 \n",
      "AUROC : 1.0\n"
     ]
    }
   ],
   "source": [
    "from sklearn.ensemble import RandomForestClassifier\n",
    "\n",
    "depth = int(np.log(10)/np.log(2)) # log2(number of features)\n",
    "\n",
    "rf = RandomForestClassifier(max_depth= depth, max_features = 'sqrt')\n",
    "rf.fit(X_sm, y_sm)\n",
    "\n",
    "y_pred = rf.predict(X_test)\n",
    "\n",
    "print('Accuracy :', dt.score(X_test,y_test).round(3),\n",
    "        '\\nf1-score :', f1_score(y_test, y_pred).round(3),\n",
    "        '\\nAUROC :', roc_auc_score(y_test, y_pred).round(3))\n"
   ]
  },
  {
   "cell_type": "markdown",
   "id": "8532beda",
   "metadata": {},
   "source": [
    "### SMOTEENN"
   ]
  },
  {
   "cell_type": "code",
   "execution_count": 75,
   "id": "6beffb33",
   "metadata": {},
   "outputs": [
    {
     "name": "stderr",
     "output_type": "stream",
     "text": [
      "C:\\Users\\Brinda\\AppData\\Local\\Temp\\ipykernel_15348\\2731960525.py:4: DataConversionWarning: A column-vector y was passed when a 1d array was expected. Please change the shape of y to (n_samples,), for example using ravel().\n",
      "  rf.fit(X_sn, y_sn)\n"
     ]
    },
    {
     "name": "stdout",
     "output_type": "stream",
     "text": [
      "Accuracy : 1.0 \n",
      "f1-score : 1.0 \n",
      "AUROC : 1.0\n"
     ]
    }
   ],
   "source": [
    "depth = int(np.log(10)/np.log(2)) # log2(number of features)\n",
    "\n",
    "rf = RandomForestClassifier(max_depth= depth, max_features = 'sqrt')\n",
    "rf.fit(X_sn, y_sn)\n",
    "\n",
    "y_pred = rf.predict(X_test)\n",
    "\n",
    "print('Accuracy :', dt.score(X_test,y_test).round(3),\n",
    "        '\\nf1-score :', f1_score(y_test, y_pred).round(3),\n",
    "        '\\nAUROC :', roc_auc_score(y_test, y_pred).round(3))\n",
    "\n"
   ]
  },
  {
   "cell_type": "markdown",
   "id": "d4a5e6d1",
   "metadata": {},
   "source": [
    "## XG BOOST"
   ]
  },
  {
   "cell_type": "code",
   "execution_count": 76,
   "id": "f3a60819",
   "metadata": {},
   "outputs": [
    {
     "name": "stdout",
     "output_type": "stream",
     "text": [
      "Requirement already satisfied: xgboost in c:\\users\\brinda\\anaconda3\\lib\\site-packages (1.6.1)\n",
      "Requirement already satisfied: scipy in c:\\users\\brinda\\anaconda3\\lib\\site-packages (from xgboost) (1.7.3)\n",
      "Requirement already satisfied: numpy in c:\\users\\brinda\\anaconda3\\lib\\site-packages (from xgboost) (1.21.5)\n",
      "Note: you may need to restart the kernel to use updated packages.\n"
     ]
    }
   ],
   "source": [
    "pip install xgboost"
   ]
  },
  {
   "cell_type": "markdown",
   "id": "11e4d4fa",
   "metadata": {},
   "source": [
    "### SMOTE"
   ]
  },
  {
   "cell_type": "code",
   "execution_count": 77,
   "id": "d8a8f1f0",
   "metadata": {},
   "outputs": [
    {
     "name": "stdout",
     "output_type": "stream",
     "text": [
      "Learning rate :  0.01  Cross-Val score :  1.0\n",
      "Learning rate :  0.05  Cross-Val score :  1.0\n",
      "Learning rate :  0.1  Cross-Val score :  1.0\n",
      "Learning rate :  0.11  Cross-Val score :  1.0\n",
      "Learning rate :  0.12  Cross-Val score :  1.0\n",
      "Learning rate :  0.13  Cross-Val score :  1.0\n",
      "Learning rate :  0.14  Cross-Val score :  1.0\n",
      "Learning rate :  0.15  Cross-Val score :  1.0\n",
      "Learning rate :  0.2  Cross-Val score :  1.0\n",
      "Learning rate :  0.5  Cross-Val score :  1.0\n",
      "Learning rate :  0.7  Cross-Val score :  1.0\n",
      "Learning rate :  1  Cross-Val score :  1.0\n"
     ]
    }
   ],
   "source": [
    "import xgboost as xgb\n",
    "\n",
    "XG = []\n",
    "\n",
    "for lr in [0.01,0.05,0.1,0.11,0.12,0.13,0.14,0.15,0.2,0.5,0.7,1]:\n",
    "  XGB = xgb.XGBClassifier(learning_rate = lr, n_estimators=100, verbosity = 0) # initialise the model\n",
    "  XGB.fit(X_sm,y_sm) #train the model\n",
    "  print(\"Learning rate : \", lr,\" Cross-Val score : \", np.mean(cross_val_score(XGB, X_sm, y_sm, cv=10)).round(4))"
   ]
  },
  {
   "cell_type": "code",
   "execution_count": 78,
   "id": "675e988c",
   "metadata": {},
   "outputs": [
    {
     "name": "stdout",
     "output_type": "stream",
     "text": [
      "Accuracy : 1.0 \n",
      "f1-score : 1.0 \n",
      "AUROC : 1.0\n"
     ]
    }
   ],
   "source": [
    "XGB = xgb.XGBClassifier(learning_rate = 1, n_estimators=100)\n",
    "XGB.fit(X_sm,y_sm) #train the model\n",
    "\n",
    "X_test = pd.DataFrame(X_test)\n",
    "y_pred = XGB.predict(X_test)\n",
    "\n",
    "print('Accuracy :', XGB.score(X_test,y_test).round(3),\n",
    "        '\\nf1-score :', f1_score(y_test, y_pred).round(3),\n",
    "        '\\nAUROC :', roc_auc_score(y_test, y_pred).round(3))"
   ]
  },
  {
   "cell_type": "markdown",
   "id": "f32fb561",
   "metadata": {},
   "source": [
    "### SMOTEENN"
   ]
  },
  {
   "cell_type": "code",
   "execution_count": 79,
   "id": "b7186de2",
   "metadata": {},
   "outputs": [
    {
     "name": "stdout",
     "output_type": "stream",
     "text": [
      "Learning rate :  0.01  Cross-Val score :  1.0\n",
      "Learning rate :  0.05  Cross-Val score :  1.0\n",
      "Learning rate :  0.1  Cross-Val score :  1.0\n",
      "Learning rate :  0.11  Cross-Val score :  1.0\n",
      "Learning rate :  0.12  Cross-Val score :  1.0\n",
      "Learning rate :  0.13  Cross-Val score :  1.0\n",
      "Learning rate :  0.14  Cross-Val score :  1.0\n",
      "Learning rate :  0.15  Cross-Val score :  1.0\n",
      "Learning rate :  0.2  Cross-Val score :  1.0\n",
      "Learning rate :  0.5  Cross-Val score :  1.0\n",
      "Learning rate :  0.7  Cross-Val score :  1.0\n",
      "Learning rate :  1  Cross-Val score :  1.0\n"
     ]
    }
   ],
   "source": [
    "for lr in [0.01,0.05,0.1,0.11,0.12,0.13,0.14,0.15,0.2,0.5,0.7,1]:\n",
    "  XGB = xgb.XGBClassifier(learning_rate = lr, n_estimators=100, verbosity = 0) # initialise the model\n",
    "  XGB.fit(X_sn,y_sn) #train the model\n",
    "  print(\"Learning rate : \", lr,\" Cross-Val score : \", np.mean(cross_val_score(XGB, X_sn, y_sn, cv=10)).round(4))"
   ]
  },
  {
   "cell_type": "code",
   "execution_count": 80,
   "id": "ebb39d2e",
   "metadata": {},
   "outputs": [
    {
     "name": "stdout",
     "output_type": "stream",
     "text": [
      "Accuracy : 1.0 \n",
      "f1-score : 1.0 \n",
      "AUROC : 1.0\n"
     ]
    }
   ],
   "source": [
    "XGB = xgb.XGBClassifier(learning_rate = 1, n_estimators=100)\n",
    "XGB.fit(X_sm,y_sm) #train the model\n",
    "\n",
    "X_test = pd.DataFrame(X_test)\n",
    "y_pred = XGB.predict(X_test)\n",
    "\n",
    "print('Accuracy :', XGB.score(X_test,y_test).round(3),\n",
    "        '\\nf1-score :', f1_score(y_test, y_pred).round(3),\n",
    "        '\\nAUROC :', roc_auc_score(y_test, y_pred).round(3))"
   ]
  },
  {
   "cell_type": "markdown",
   "id": "ac050b07",
   "metadata": {},
   "source": [
    "#### We have fed our training dataset to all the supervised ML algorithms, except KNN Classifier all the other models performed well\n"
   ]
  },
  {
   "cell_type": "markdown",
   "id": "a89d9b97",
   "metadata": {},
   "source": [
    "# ######################################################################"
   ]
  },
  {
   "cell_type": "markdown",
   "id": "df5d90ed",
   "metadata": {},
   "source": [
    "# Importing Test Dataset"
   ]
  },
  {
   "cell_type": "code",
   "execution_count": 119,
   "id": "bbafd2ac",
   "metadata": {},
   "outputs": [
    {
     "data": {
      "text/html": [
       "<div>\n",
       "<style scoped>\n",
       "    .dataframe tbody tr th:only-of-type {\n",
       "        vertical-align: middle;\n",
       "    }\n",
       "\n",
       "    .dataframe tbody tr th {\n",
       "        vertical-align: top;\n",
       "    }\n",
       "\n",
       "    .dataframe thead th {\n",
       "        text-align: right;\n",
       "    }\n",
       "</style>\n",
       "<table border=\"1\" class=\"dataframe\">\n",
       "  <thead>\n",
       "    <tr style=\"text-align: right;\">\n",
       "      <th></th>\n",
       "      <th>Unnamed: 0</th>\n",
       "      <th>ID</th>\n",
       "      <th>Nationality</th>\n",
       "      <th>Age</th>\n",
       "      <th>DaysSinceCreation</th>\n",
       "      <th>AverageLeadTime</th>\n",
       "      <th>LodgingRevenue</th>\n",
       "      <th>OtherRevenue</th>\n",
       "      <th>BookingsCanceled</th>\n",
       "      <th>BookingsNoShowed</th>\n",
       "      <th>...</th>\n",
       "      <th>SRMediumFloor</th>\n",
       "      <th>SRBathtub</th>\n",
       "      <th>SRShower</th>\n",
       "      <th>SRCrib</th>\n",
       "      <th>SRKingSizeBed</th>\n",
       "      <th>SRTwinBed</th>\n",
       "      <th>SRNearElevator</th>\n",
       "      <th>SRAwayFromElevator</th>\n",
       "      <th>SRNoAlcoholInMiniBar</th>\n",
       "      <th>SRQuietRoom</th>\n",
       "    </tr>\n",
       "  </thead>\n",
       "  <tbody>\n",
       "    <tr>\n",
       "      <th>0</th>\n",
       "      <td>82590</td>\n",
       "      <td>82591</td>\n",
       "      <td>SGP</td>\n",
       "      <td>47.0</td>\n",
       "      <td>11</td>\n",
       "      <td>0</td>\n",
       "      <td>0.00</td>\n",
       "      <td>0.0</td>\n",
       "      <td>0</td>\n",
       "      <td>0</td>\n",
       "      <td>...</td>\n",
       "      <td>0</td>\n",
       "      <td>0</td>\n",
       "      <td>0</td>\n",
       "      <td>0</td>\n",
       "      <td>0</td>\n",
       "      <td>0</td>\n",
       "      <td>0</td>\n",
       "      <td>0</td>\n",
       "      <td>0</td>\n",
       "      <td>0</td>\n",
       "    </tr>\n",
       "    <tr>\n",
       "      <th>1</th>\n",
       "      <td>82591</td>\n",
       "      <td>82592</td>\n",
       "      <td>SGP</td>\n",
       "      <td>16.0</td>\n",
       "      <td>11</td>\n",
       "      <td>130</td>\n",
       "      <td>483.48</td>\n",
       "      <td>155.1</td>\n",
       "      <td>0</td>\n",
       "      <td>0</td>\n",
       "      <td>...</td>\n",
       "      <td>0</td>\n",
       "      <td>0</td>\n",
       "      <td>0</td>\n",
       "      <td>0</td>\n",
       "      <td>0</td>\n",
       "      <td>0</td>\n",
       "      <td>0</td>\n",
       "      <td>0</td>\n",
       "      <td>0</td>\n",
       "      <td>0</td>\n",
       "    </tr>\n",
       "    <tr>\n",
       "      <th>2</th>\n",
       "      <td>82592</td>\n",
       "      <td>82593</td>\n",
       "      <td>SGP</td>\n",
       "      <td>15.0</td>\n",
       "      <td>11</td>\n",
       "      <td>0</td>\n",
       "      <td>0.00</td>\n",
       "      <td>0.0</td>\n",
       "      <td>0</td>\n",
       "      <td>0</td>\n",
       "      <td>...</td>\n",
       "      <td>0</td>\n",
       "      <td>0</td>\n",
       "      <td>0</td>\n",
       "      <td>0</td>\n",
       "      <td>0</td>\n",
       "      <td>0</td>\n",
       "      <td>0</td>\n",
       "      <td>0</td>\n",
       "      <td>0</td>\n",
       "      <td>0</td>\n",
       "    </tr>\n",
       "    <tr>\n",
       "      <th>3</th>\n",
       "      <td>82593</td>\n",
       "      <td>82594</td>\n",
       "      <td>SGP</td>\n",
       "      <td>12.0</td>\n",
       "      <td>11</td>\n",
       "      <td>0</td>\n",
       "      <td>0.00</td>\n",
       "      <td>0.0</td>\n",
       "      <td>0</td>\n",
       "      <td>0</td>\n",
       "      <td>...</td>\n",
       "      <td>0</td>\n",
       "      <td>0</td>\n",
       "      <td>0</td>\n",
       "      <td>0</td>\n",
       "      <td>0</td>\n",
       "      <td>0</td>\n",
       "      <td>0</td>\n",
       "      <td>0</td>\n",
       "      <td>0</td>\n",
       "      <td>0</td>\n",
       "    </tr>\n",
       "    <tr>\n",
       "      <th>4</th>\n",
       "      <td>82594</td>\n",
       "      <td>82595</td>\n",
       "      <td>PRT</td>\n",
       "      <td>NaN</td>\n",
       "      <td>11</td>\n",
       "      <td>0</td>\n",
       "      <td>0.00</td>\n",
       "      <td>0.0</td>\n",
       "      <td>0</td>\n",
       "      <td>0</td>\n",
       "      <td>...</td>\n",
       "      <td>0</td>\n",
       "      <td>0</td>\n",
       "      <td>0</td>\n",
       "      <td>0</td>\n",
       "      <td>1</td>\n",
       "      <td>0</td>\n",
       "      <td>0</td>\n",
       "      <td>0</td>\n",
       "      <td>0</td>\n",
       "      <td>0</td>\n",
       "    </tr>\n",
       "  </tbody>\n",
       "</table>\n",
       "<p>5 rows × 30 columns</p>\n",
       "</div>"
      ],
      "text/plain": [
       "   Unnamed: 0     ID Nationality   Age  DaysSinceCreation  AverageLeadTime  \\\n",
       "0       82590  82591         SGP  47.0                 11                0   \n",
       "1       82591  82592         SGP  16.0                 11              130   \n",
       "2       82592  82593         SGP  15.0                 11                0   \n",
       "3       82593  82594         SGP  12.0                 11                0   \n",
       "4       82594  82595         PRT   NaN                 11                0   \n",
       "\n",
       "   LodgingRevenue  OtherRevenue  BookingsCanceled  BookingsNoShowed  ...  \\\n",
       "0            0.00           0.0                 0                 0  ...   \n",
       "1          483.48         155.1                 0                 0  ...   \n",
       "2            0.00           0.0                 0                 0  ...   \n",
       "3            0.00           0.0                 0                 0  ...   \n",
       "4            0.00           0.0                 0                 0  ...   \n",
       "\n",
       "   SRMediumFloor  SRBathtub  SRShower  SRCrib  SRKingSizeBed SRTwinBed  \\\n",
       "0              0          0         0       0              0         0   \n",
       "1              0          0         0       0              0         0   \n",
       "2              0          0         0       0              0         0   \n",
       "3              0          0         0       0              0         0   \n",
       "4              0          0         0       0              1         0   \n",
       "\n",
       "  SRNearElevator  SRAwayFromElevator  SRNoAlcoholInMiniBar  SRQuietRoom  \n",
       "0              0                   0                     0            0  \n",
       "1              0                   0                     0            0  \n",
       "2              0                   0                     0            0  \n",
       "3              0                   0                     0            0  \n",
       "4              0                   0                     0            0  \n",
       "\n",
       "[5 rows x 30 columns]"
      ]
     },
     "execution_count": 119,
     "metadata": {},
     "output_type": "execute_result"
    }
   ],
   "source": [
    "df  = pd.read_csv(\"A:\\\\Data Sets\\\\test_data_evaluation_part2.csv\")\n",
    "df.head()"
   ]
  },
  {
   "cell_type": "markdown",
   "id": "7b72db1e",
   "metadata": {},
   "source": [
    "# DATA CLEANING"
   ]
  },
  {
   "cell_type": "code",
   "execution_count": 120,
   "id": "fb2aa00b",
   "metadata": {},
   "outputs": [
    {
     "data": {
      "text/plain": [
       "(1000, 30)"
      ]
     },
     "execution_count": 120,
     "metadata": {},
     "output_type": "execute_result"
    }
   ],
   "source": [
    "df.shape"
   ]
  },
  {
   "cell_type": "code",
   "execution_count": 121,
   "id": "c9a0b09a",
   "metadata": {},
   "outputs": [
    {
     "name": "stdout",
     "output_type": "stream",
     "text": [
      "<class 'pandas.core.frame.DataFrame'>\n",
      "RangeIndex: 1000 entries, 0 to 999\n",
      "Data columns (total 30 columns):\n",
      " #   Column                Non-Null Count  Dtype  \n",
      "---  ------                --------------  -----  \n",
      " 0   Unnamed: 0            1000 non-null   int64  \n",
      " 1   ID                    1000 non-null   int64  \n",
      " 2   Nationality           1000 non-null   object \n",
      " 3   Age                   967 non-null    float64\n",
      " 4   DaysSinceCreation     1000 non-null   int64  \n",
      " 5   AverageLeadTime       1000 non-null   int64  \n",
      " 6   LodgingRevenue        1000 non-null   float64\n",
      " 7   OtherRevenue          1000 non-null   float64\n",
      " 8   BookingsCanceled      1000 non-null   int64  \n",
      " 9   BookingsNoShowed      1000 non-null   int64  \n",
      " 10  BookingsCheckedIn     1000 non-null   int64  \n",
      " 11  PersonsNights         1000 non-null   int64  \n",
      " 12  RoomNights            1000 non-null   int64  \n",
      " 13  DaysSinceLastStay     1000 non-null   int64  \n",
      " 14  DaysSinceFirstStay    1000 non-null   int64  \n",
      " 15  DistributionChannel   1000 non-null   object \n",
      " 16  MarketSegment         1000 non-null   object \n",
      " 17  SRHighFloor           1000 non-null   int64  \n",
      " 18  SRLowFloor            1000 non-null   int64  \n",
      " 19  SRAccessibleRoom      1000 non-null   int64  \n",
      " 20  SRMediumFloor         1000 non-null   int64  \n",
      " 21  SRBathtub             1000 non-null   int64  \n",
      " 22  SRShower              1000 non-null   int64  \n",
      " 23  SRCrib                1000 non-null   int64  \n",
      " 24  SRKingSizeBed         1000 non-null   int64  \n",
      " 25  SRTwinBed             1000 non-null   int64  \n",
      " 26  SRNearElevator        1000 non-null   int64  \n",
      " 27  SRAwayFromElevator    1000 non-null   int64  \n",
      " 28  SRNoAlcoholInMiniBar  1000 non-null   int64  \n",
      " 29  SRQuietRoom           1000 non-null   int64  \n",
      "dtypes: float64(3), int64(24), object(3)\n",
      "memory usage: 234.5+ KB\n"
     ]
    }
   ],
   "source": [
    "df.info()"
   ]
  },
  {
   "cell_type": "code",
   "execution_count": 122,
   "id": "0231e6ea",
   "metadata": {},
   "outputs": [
    {
     "data": {
      "text/plain": [
       "Index(['Unnamed: 0', 'ID', 'Nationality', 'Age', 'DaysSinceCreation',\n",
       "       'AverageLeadTime', 'LodgingRevenue', 'OtherRevenue', 'BookingsCanceled',\n",
       "       'BookingsNoShowed', 'BookingsCheckedIn', 'PersonsNights', 'RoomNights',\n",
       "       'DaysSinceLastStay', 'DaysSinceFirstStay', 'DistributionChannel',\n",
       "       'MarketSegment', 'SRHighFloor', 'SRLowFloor', 'SRAccessibleRoom',\n",
       "       'SRMediumFloor', 'SRBathtub', 'SRShower', 'SRCrib', 'SRKingSizeBed',\n",
       "       'SRTwinBed', 'SRNearElevator', 'SRAwayFromElevator',\n",
       "       'SRNoAlcoholInMiniBar', 'SRQuietRoom'],\n",
       "      dtype='object')"
      ]
     },
     "execution_count": 122,
     "metadata": {},
     "output_type": "execute_result"
    }
   ],
   "source": [
    "df.columns"
   ]
  },
  {
   "cell_type": "code",
   "execution_count": 123,
   "id": "2b2a54e8",
   "metadata": {},
   "outputs": [
    {
     "data": {
      "text/plain": [
       "Unnamed: 0               0\n",
       "ID                       0\n",
       "Nationality              0\n",
       "Age                     33\n",
       "DaysSinceCreation        0\n",
       "AverageLeadTime          0\n",
       "LodgingRevenue           0\n",
       "OtherRevenue             0\n",
       "BookingsCanceled         0\n",
       "BookingsNoShowed         0\n",
       "BookingsCheckedIn        0\n",
       "PersonsNights            0\n",
       "RoomNights               0\n",
       "DaysSinceLastStay        0\n",
       "DaysSinceFirstStay       0\n",
       "DistributionChannel      0\n",
       "MarketSegment            0\n",
       "SRHighFloor              0\n",
       "SRLowFloor               0\n",
       "SRAccessibleRoom         0\n",
       "SRMediumFloor            0\n",
       "SRBathtub                0\n",
       "SRShower                 0\n",
       "SRCrib                   0\n",
       "SRKingSizeBed            0\n",
       "SRTwinBed                0\n",
       "SRNearElevator           0\n",
       "SRAwayFromElevator       0\n",
       "SRNoAlcoholInMiniBar     0\n",
       "SRQuietRoom              0\n",
       "dtype: int64"
      ]
     },
     "execution_count": 123,
     "metadata": {},
     "output_type": "execute_result"
    }
   ],
   "source": [
    "df.isnull().sum()"
   ]
  },
  {
   "cell_type": "code",
   "execution_count": 124,
   "id": "516ba228",
   "metadata": {},
   "outputs": [
    {
     "data": {
      "text/plain": [
       "3.3000000000000003"
      ]
     },
     "execution_count": 124,
     "metadata": {},
     "output_type": "execute_result"
    }
   ],
   "source": [
    "#calculating null percentage for age column\n",
    "\n",
    "df.Age.isnull().sum()/len(df)*100\n",
    "\n",
    "#There is only 4.5% of null values, so fill with median value of age column"
   ]
  },
  {
   "cell_type": "code",
   "execution_count": 125,
   "id": "2265d3f6",
   "metadata": {},
   "outputs": [],
   "source": [
    "#filling null values\n",
    "df[\"Age\"].fillna(round(df[\"Age\"].mean(),1), inplace = True)"
   ]
  },
  {
   "cell_type": "code",
   "execution_count": 126,
   "id": "9a76cea5",
   "metadata": {},
   "outputs": [
    {
     "name": "stdout",
     "output_type": "stream",
     "text": [
      "Data shape : (1000, 30)\n",
      "Data shape after dropping duplicates : (1000, 30)\n"
     ]
    }
   ],
   "source": [
    "# dropping the duplicated rows\n",
    "print('Data shape :', df.shape)\n",
    "\n",
    "df.drop_duplicates(inplace = True)\n",
    "print('Data shape after dropping duplicates :', df.shape)"
   ]
  },
  {
   "cell_type": "code",
   "execution_count": 127,
   "id": "1909838b",
   "metadata": {},
   "outputs": [],
   "source": [
    "#considering all the values as 1 which are greater than 1,\n",
    "df['BookingsCheckedIn'] = [1 if i>1 else i for i in df['BookingsCheckedIn'] ]"
   ]
  },
  {
   "cell_type": "code",
   "execution_count": 130,
   "id": "b2bc3b2b",
   "metadata": {},
   "outputs": [],
   "source": [
    "# dropping columns which are not required \n",
    "df = df.drop(columns = ['Unnamed: 0'])\n",
    "df = df.drop(columns = ['ID'])\n",
    "df = df.drop(columns = ['Nationality'])"
   ]
  },
  {
   "cell_type": "markdown",
   "id": "bceb03d1",
   "metadata": {},
   "source": [
    "# Encoding (one Hot Encoding)"
   ]
  },
  {
   "cell_type": "code",
   "execution_count": 131,
   "id": "cda402a0",
   "metadata": {},
   "outputs": [],
   "source": [
    "dummies1 = pd.get_dummies(df[\"DistributionChannel\"])\n",
    "df= pd.concat([df,dummies1], axis=1)\n",
    "df = df.drop('DistributionChannel',axis=1)"
   ]
  },
  {
   "cell_type": "code",
   "execution_count": 134,
   "id": "56e47fc5",
   "metadata": {},
   "outputs": [],
   "source": [
    "dummies1 = pd.get_dummies(df[\"MarketSegment\"])\n",
    "df = pd.concat([df,dummies1], axis=1)\n",
    "df = df.drop('MarketSegment',axis=1)"
   ]
  },
  {
   "cell_type": "code",
   "execution_count": null,
   "id": "46405c5e",
   "metadata": {},
   "outputs": [],
   "source": [
    "#################################################################################################################################"
   ]
  },
  {
   "cell_type": "code",
   "execution_count": 138,
   "id": "a4089691",
   "metadata": {},
   "outputs": [
    {
     "data": {
      "image/png": "[encoded data removed]",
      "text/plain": [
       "<Figure size 576x360 with 1 Axes>"
      ]
     },
     "metadata": {},
     "output_type": "display_data"
    }
   ],
   "source": [
    "plt.figure(figsize = (8, 5))\n",
    "sns.countplot(x = 'BookingsCheckedIn', data=df,\n",
    "                order = df['BookingsCheckedIn'].value_counts(ascending = True).index)\n",
    "plt.xlabel('Type of BookingsCheckedIn')\n",
    "plt.title(f'Distribution of type of BookingsCheckedIn')\n",
    "sns.despine()"
   ]
  },
  {
   "cell_type": "markdown",
   "id": "06889812",
   "metadata": {},
   "source": [
    "#### The distribution of 1 and 0 are almost equal so there is no need to balance dataset"
   ]
  },
  {
   "cell_type": "markdown",
   "id": "8f0bc30a",
   "metadata": {},
   "source": [
    "# ML Models"
   ]
  },
  {
   "cell_type": "code",
   "execution_count": 139,
   "id": "2ddb3e71",
   "metadata": {},
   "outputs": [],
   "source": [
    "X = df[['Age','DaysSinceCreation','AverageLeadTime','LodgingRevenue','OtherRevenue', 'BookingsCanceled','BookingsNoShowed','PersonsNights', 'RoomNights', 'DaysSinceLastStay','DaysSinceFirstStay','SRHighFloor','SRLowFloor','SRAccessibleRoom','SRMediumFloor','SRBathtub','SRShower','SRCrib','SRKingSizeBed','SRTwinBed','SRNearElevator','SRAwayFromElevator','SRNoAlcoholInMiniBar','SRQuietRoom','Corporate','Direct','Electronic Distribution','Travel Agent/Operator','Aviation','Complementary','Corporate','Direct','Other','Travel Agent/Operator']].values\n",
    "y = df[[\"BookingsCheckedIn\"]].values"
   ]
  },
  {
   "cell_type": "code",
   "execution_count": 140,
   "id": "9565c993",
   "metadata": {},
   "outputs": [],
   "source": [
    "# train test split\n",
    "\n",
    "from sklearn.model_selection import train_test_split\n",
    "X_train, X_test, y_train, y_test = train_test_split(X, y, test_size = 0.25)"
   ]
  },
  {
   "cell_type": "code",
   "execution_count": 141,
   "id": "372d49e8",
   "metadata": {},
   "outputs": [],
   "source": [
    "# scaling\n",
    "\n",
    "from sklearn.preprocessing import StandardScaler\n",
    "\n",
    "scaler = StandardScaler()\n",
    "scaler.fit(X_train, y_train) # find mean and standard deviation\n",
    "\n",
    "X_train = scaler.transform(X_train)\n",
    "X_test  = scaler.transform(X_test)"
   ]
  },
  {
   "cell_type": "markdown",
   "id": "f7fa1546",
   "metadata": {},
   "source": [
    "## Logistic Regression"
   ]
  },
  {
   "cell_type": "code",
   "execution_count": 142,
   "id": "d87a8dd0",
   "metadata": {},
   "outputs": [
    {
     "name": "stdout",
     "output_type": "stream",
     "text": [
      "Accuracy : 1.0 \n",
      "f1-score : 1.0 \n",
      "AUROC : 1.0\n"
     ]
    },
    {
     "name": "stderr",
     "output_type": "stream",
     "text": [
      "C:\\Users\\Brinda\\anaconda3\\lib\\site-packages\\sklearn\\utils\\validation.py:1111: DataConversionWarning: A column-vector y was passed when a 1d array was expected. Please change the shape of y to (n_samples, ), for example using ravel().\n",
      "  y = column_or_1d(y, warn=True)\n"
     ]
    }
   ],
   "source": [
    "from sklearn.linear_model import LogisticRegression\n",
    "from sklearn.metrics import roc_auc_score, confusion_matrix, f1_score\n",
    "\n",
    "\n",
    "logistic = LogisticRegression()\n",
    "logistic.fit(X_train,y_train)\n",
    "\n",
    "y_pred = logistic.predict(X_test)\n",
    "print('Accuracy :', logistic.score(X_test,y_test).round(3),\n",
    "        '\\nf1-score :', f1_score(y_test, y_pred).round(3),\n",
    "        '\\nAUROC :', roc_auc_score(y_test, y_pred).round(3))"
   ]
  },
  {
   "cell_type": "markdown",
   "id": "c2950589",
   "metadata": {},
   "source": [
    "## KNN Classification"
   ]
  },
  {
   "cell_type": "code",
   "execution_count": 147,
   "id": "300909e5",
   "metadata": {},
   "outputs": [
    {
     "name": "stderr",
     "output_type": "stream",
     "text": [
      "C:\\Users\\Brinda\\anaconda3\\lib\\site-packages\\sklearn\\neighbors\\_classification.py:207: DataConversionWarning: A column-vector y was passed when a 1d array was expected. Please change the shape of y to (n_samples,), for example using ravel().\n",
      "  return self._fit(X, y)\n",
      "C:\\Users\\Brinda\\anaconda3\\lib\\site-packages\\sklearn\\neighbors\\_classification.py:207: DataConversionWarning: A column-vector y was passed when a 1d array was expected. Please change the shape of y to (n_samples,), for example using ravel().\n",
      "  return self._fit(X, y)\n",
      "C:\\Users\\Brinda\\anaconda3\\lib\\site-packages\\sklearn\\neighbors\\_classification.py:207: DataConversionWarning: A column-vector y was passed when a 1d array was expected. Please change the shape of y to (n_samples,), for example using ravel().\n",
      "  return self._fit(X, y)\n",
      "C:\\Users\\Brinda\\anaconda3\\lib\\site-packages\\sklearn\\neighbors\\_classification.py:207: DataConversionWarning: A column-vector y was passed when a 1d array was expected. Please change the shape of y to (n_samples,), for example using ravel().\n",
      "  return self._fit(X, y)\n",
      "C:\\Users\\Brinda\\anaconda3\\lib\\site-packages\\sklearn\\neighbors\\_classification.py:207: DataConversionWarning: A column-vector y was passed when a 1d array was expected. Please change the shape of y to (n_samples,), for example using ravel().\n",
      "  return self._fit(X, y)\n",
      "C:\\Users\\Brinda\\anaconda3\\lib\\site-packages\\sklearn\\neighbors\\_classification.py:207: DataConversionWarning: A column-vector y was passed when a 1d array was expected. Please change the shape of y to (n_samples,), for example using ravel().\n",
      "  return self._fit(X, y)\n",
      "C:\\Users\\Brinda\\anaconda3\\lib\\site-packages\\sklearn\\neighbors\\_classification.py:207: DataConversionWarning: A column-vector y was passed when a 1d array was expected. Please change the shape of y to (n_samples,), for example using ravel().\n",
      "  return self._fit(X, y)\n",
      "C:\\Users\\Brinda\\anaconda3\\lib\\site-packages\\sklearn\\neighbors\\_classification.py:207: DataConversionWarning: A column-vector y was passed when a 1d array was expected. Please change the shape of y to (n_samples,), for example using ravel().\n",
      "  return self._fit(X, y)\n",
      "C:\\Users\\Brinda\\anaconda3\\lib\\site-packages\\sklearn\\neighbors\\_classification.py:207: DataConversionWarning: A column-vector y was passed when a 1d array was expected. Please change the shape of y to (n_samples,), for example using ravel().\n",
      "  return self._fit(X, y)\n",
      "C:\\Users\\Brinda\\anaconda3\\lib\\site-packages\\sklearn\\neighbors\\_classification.py:207: DataConversionWarning: A column-vector y was passed when a 1d array was expected. Please change the shape of y to (n_samples,), for example using ravel().\n",
      "  return self._fit(X, y)\n",
      "C:\\Users\\Brinda\\anaconda3\\lib\\site-packages\\sklearn\\neighbors\\_classification.py:207: DataConversionWarning: A column-vector y was passed when a 1d array was expected. Please change the shape of y to (n_samples,), for example using ravel().\n",
      "  return self._fit(X, y)\n",
      "C:\\Users\\Brinda\\anaconda3\\lib\\site-packages\\sklearn\\neighbors\\_classification.py:207: DataConversionWarning: A column-vector y was passed when a 1d array was expected. Please change the shape of y to (n_samples,), for example using ravel().\n",
      "  return self._fit(X, y)\n",
      "C:\\Users\\Brinda\\anaconda3\\lib\\site-packages\\sklearn\\neighbors\\_classification.py:207: DataConversionWarning: A column-vector y was passed when a 1d array was expected. Please change the shape of y to (n_samples,), for example using ravel().\n",
      "  return self._fit(X, y)\n"
     ]
    },
    {
     "data": {
      "text/html": [
       "<div>\n",
       "<style scoped>\n",
       "    .dataframe tbody tr th:only-of-type {\n",
       "        vertical-align: middle;\n",
       "    }\n",
       "\n",
       "    .dataframe tbody tr th {\n",
       "        vertical-align: top;\n",
       "    }\n",
       "\n",
       "    .dataframe thead th {\n",
       "        text-align: right;\n",
       "    }\n",
       "</style>\n",
       "<table border=\"1\" class=\"dataframe\">\n",
       "  <thead>\n",
       "    <tr style=\"text-align: right;\">\n",
       "      <th></th>\n",
       "      <th>K Value</th>\n",
       "      <th>Cross_val_Score</th>\n",
       "    </tr>\n",
       "  </thead>\n",
       "  <tbody>\n",
       "    <tr>\n",
       "      <th>0</th>\n",
       "      <td>1</td>\n",
       "      <td>0.99882</td>\n",
       "    </tr>\n",
       "    <tr>\n",
       "      <th>2</th>\n",
       "      <td>3</td>\n",
       "      <td>0.99801</td>\n",
       "    </tr>\n",
       "    <tr>\n",
       "      <th>1</th>\n",
       "      <td>2</td>\n",
       "      <td>0.99791</td>\n",
       "    </tr>\n",
       "    <tr>\n",
       "      <th>4</th>\n",
       "      <td>5</td>\n",
       "      <td>0.99749</td>\n",
       "    </tr>\n",
       "    <tr>\n",
       "      <th>3</th>\n",
       "      <td>4</td>\n",
       "      <td>0.99722</td>\n",
       "    </tr>\n",
       "  </tbody>\n",
       "</table>\n",
       "</div>"
      ],
      "text/plain": [
       "   K Value  Cross_val_Score\n",
       "0        1          0.99882\n",
       "2        3          0.99801\n",
       "1        2          0.99791\n",
       "4        5          0.99749\n",
       "3        4          0.99722"
      ]
     },
     "execution_count": 147,
     "metadata": {},
     "output_type": "execute_result"
    }
   ],
   "source": [
    "from sklearn.neighbors import KNeighborsClassifier\n",
    "from sklearn.model_selection import cross_val_score\n",
    "\n",
    "\n",
    "K = []\n",
    "\n",
    "for i in [1,2,3,4,5,6,7,8,9,10,15,20,30]: # looping to find best K\n",
    "    knn = KNeighborsClassifier(i) #initialising the model\n",
    "    knn.fit(X_train,y_train) # training the model\n",
    "\n",
    "    K.append({'K Value' : i, 'Cross_val_Score': np.mean(cross_val_score(knn, X_sm, y_sm, cv = 5)).round(5)})\n",
    "    score = pd.DataFrame(K, columns = ['K Value', 'Cross_val_Score'])\n",
    "\n",
    "score.sort_values(by = 'Cross_val_Score', ascending = False).head()"
   ]
  },
  {
   "cell_type": "code",
   "execution_count": 148,
   "id": "17ef27f1",
   "metadata": {},
   "outputs": [
    {
     "name": "stderr",
     "output_type": "stream",
     "text": [
      "C:\\Users\\Brinda\\anaconda3\\lib\\site-packages\\sklearn\\neighbors\\_classification.py:207: DataConversionWarning: A column-vector y was passed when a 1d array was expected. Please change the shape of y to (n_samples,), for example using ravel().\n",
      "  return self._fit(X, y)\n"
     ]
    },
    {
     "name": "stdout",
     "output_type": "stream",
     "text": [
      "Accuracy : 0.976 \n",
      "f1-score : 0.976 \n",
      "AUROC : 0.976\n"
     ]
    }
   ],
   "source": [
    "knn = KNeighborsClassifier(1)\n",
    "knn.fit(X_train,y_train)\n",
    "\n",
    "y_pred = knn.predict(X_test)\n",
    "\n",
    "\n",
    "print('Accuracy :', knn.score(X_test,y_test).round(3),\n",
    "        '\\nf1-score :', f1_score(y_test, y_pred).round(3),\n",
    "        '\\nAUROC :', roc_auc_score(y_test, y_pred).round(3))\n"
   ]
  },
  {
   "cell_type": "markdown",
   "id": "b9ce71e9",
   "metadata": {},
   "source": [
    "## Decison Tree Classifier"
   ]
  },
  {
   "cell_type": "code",
   "execution_count": 149,
   "id": "97caca63",
   "metadata": {},
   "outputs": [
    {
     "data": {
      "text/html": [
       "<div>\n",
       "<style scoped>\n",
       "    .dataframe tbody tr th:only-of-type {\n",
       "        vertical-align: middle;\n",
       "    }\n",
       "\n",
       "    .dataframe tbody tr th {\n",
       "        vertical-align: top;\n",
       "    }\n",
       "\n",
       "    .dataframe thead th {\n",
       "        text-align: right;\n",
       "    }\n",
       "</style>\n",
       "<table border=\"1\" class=\"dataframe\">\n",
       "  <thead>\n",
       "    <tr style=\"text-align: right;\">\n",
       "      <th></th>\n",
       "      <th>Depth</th>\n",
       "      <th>Cross_val_Score</th>\n",
       "    </tr>\n",
       "  </thead>\n",
       "  <tbody>\n",
       "    <tr>\n",
       "      <th>0</th>\n",
       "      <td>1</td>\n",
       "      <td>1.0</td>\n",
       "    </tr>\n",
       "    <tr>\n",
       "      <th>1</th>\n",
       "      <td>2</td>\n",
       "      <td>1.0</td>\n",
       "    </tr>\n",
       "    <tr>\n",
       "      <th>2</th>\n",
       "      <td>3</td>\n",
       "      <td>1.0</td>\n",
       "    </tr>\n",
       "    <tr>\n",
       "      <th>3</th>\n",
       "      <td>4</td>\n",
       "      <td>1.0</td>\n",
       "    </tr>\n",
       "    <tr>\n",
       "      <th>4</th>\n",
       "      <td>5</td>\n",
       "      <td>1.0</td>\n",
       "    </tr>\n",
       "  </tbody>\n",
       "</table>\n",
       "</div>"
      ],
      "text/plain": [
       "   Depth  Cross_val_Score\n",
       "0      1              1.0\n",
       "1      2              1.0\n",
       "2      3              1.0\n",
       "3      4              1.0\n",
       "4      5              1.0"
      ]
     },
     "execution_count": 149,
     "metadata": {},
     "output_type": "execute_result"
    }
   ],
   "source": [
    "from sklearn.tree import DecisionTreeClassifier\n",
    "\n",
    "DT = []\n",
    "\n",
    "for depth in [1,2,3,4,5,6,7,8,9,10,20]:\n",
    "  dt = DecisionTreeClassifier(max_depth=depth)\n",
    "  dt.fit(X_train,y_train)\n",
    "  valAccuracy = cross_val_score(dt, X_sm, y_sm, cv=10)\n",
    "  DT.append({'Depth' : depth, 'Cross_val_Score': np.mean(valAccuracy).round(5)})\n",
    "  score = pd.DataFrame(DT, columns = ['Depth', 'Cross_val_Score'])\n",
    "\n",
    "score.sort_values(by = 'Cross_val_Score', ascending = False).head()"
   ]
  },
  {
   "cell_type": "code",
   "execution_count": 152,
   "id": "6f54311f",
   "metadata": {},
   "outputs": [
    {
     "name": "stdout",
     "output_type": "stream",
     "text": [
      "Accuracy : 1.0 \n",
      "f1-score : 1.0 \n",
      "AUROC : 1.0\n"
     ]
    }
   ],
   "source": [
    "dt = DecisionTreeClassifier(max_depth=2)\n",
    "dt.fit(X_train,y_train)\n",
    "\n",
    "y_pred = dt.predict(X_test)\n",
    "\n",
    "print('Accuracy :', dt.score(X_test,y_test).round(3),\n",
    "        '\\nf1-score :', f1_score(y_test, y_pred).round(3),\n",
    "        '\\nAUROC :', roc_auc_score(y_test, y_pred).round(3))\n"
   ]
  },
  {
   "cell_type": "markdown",
   "id": "fcc5cb8e",
   "metadata": {},
   "source": [
    "## Random Forest Classifier"
   ]
  },
  {
   "cell_type": "code",
   "execution_count": 154,
   "id": "4c32dc6a",
   "metadata": {},
   "outputs": [
    {
     "name": "stderr",
     "output_type": "stream",
     "text": [
      "C:\\Users\\Brinda\\AppData\\Local\\Temp\\ipykernel_15348\\1679684722.py:6: DataConversionWarning: A column-vector y was passed when a 1d array was expected. Please change the shape of y to (n_samples,), for example using ravel().\n",
      "  rf.fit(X_train,y_train)\n"
     ]
    },
    {
     "name": "stdout",
     "output_type": "stream",
     "text": [
      "Accuracy : 1.0 \n",
      "f1-score : 1.0 \n",
      "AUROC : 1.0\n"
     ]
    }
   ],
   "source": [
    "from sklearn.ensemble import RandomForestClassifier\n",
    "\n",
    "depth = int(np.log(10)/np.log(2)) # log2(number of features)\n",
    "\n",
    "rf = RandomForestClassifier(max_depth= depth, max_features = 'sqrt')\n",
    "rf.fit(X_train,y_train)\n",
    "\n",
    "y_pred = rf.predict(X_test)\n",
    "\n",
    "print('Accuracy :', dt.score(X_test,y_test).round(3),\n",
    "        '\\nf1-score :', f1_score(y_test, y_pred).round(3),\n",
    "        '\\nAUROC :', roc_auc_score(y_test, y_pred).round(3))\n"
   ]
  },
  {
   "cell_type": "markdown",
   "id": "73367bf2",
   "metadata": {},
   "source": [
    "## XG BOOST"
   ]
  },
  {
   "cell_type": "code",
   "execution_count": 155,
   "id": "70328e86",
   "metadata": {},
   "outputs": [
    {
     "name": "stdout",
     "output_type": "stream",
     "text": [
      "Learning rate :  0.01  Cross-Val score :  1.0\n",
      "Learning rate :  0.05  Cross-Val score :  1.0\n",
      "Learning rate :  0.1  Cross-Val score :  1.0\n",
      "Learning rate :  0.11  Cross-Val score :  1.0\n",
      "Learning rate :  0.12  Cross-Val score :  1.0\n",
      "Learning rate :  0.13  Cross-Val score :  1.0\n",
      "Learning rate :  0.14  Cross-Val score :  1.0\n",
      "Learning rate :  0.15  Cross-Val score :  1.0\n",
      "Learning rate :  0.2  Cross-Val score :  1.0\n",
      "Learning rate :  0.5  Cross-Val score :  1.0\n",
      "Learning rate :  0.7  Cross-Val score :  1.0\n",
      "Learning rate :  1  Cross-Val score :  1.0\n"
     ]
    }
   ],
   "source": [
    "import xgboost as xgb\n",
    "\n",
    "XG = []\n",
    "\n",
    "for lr in [0.01,0.05,0.1,0.11,0.12,0.13,0.14,0.15,0.2,0.5,0.7,1]:\n",
    "  XGB = xgb.XGBClassifier(learning_rate = lr, n_estimators=100, verbosity = 0) # initialise the model\n",
    "  XGB.fit(X_train,y_train) #train the model\n",
    "  print(\"Learning rate : \", lr,\" Cross-Val score : \", np.mean(cross_val_score(XGB, X_sm, y_sm, cv=10)).round(4))"
   ]
  },
  {
   "cell_type": "code",
   "execution_count": 156,
   "id": "320a2c02",
   "metadata": {},
   "outputs": [
    {
     "name": "stdout",
     "output_type": "stream",
     "text": [
      "Accuracy : 1.0 \n",
      "f1-score : 1.0 \n",
      "AUROC : 1.0\n"
     ]
    }
   ],
   "source": [
    "XGB = xgb.XGBClassifier(learning_rate = 1, n_estimators=100)\n",
    "XGB.fit(X_train,y_train) #train the model\n",
    "\n",
    "X_test = pd.DataFrame(X_test)\n",
    "y_pred = XGB.predict(X_test)\n",
    "\n",
    "print('Accuracy :', XGB.score(X_test,y_test).round(3),\n",
    "        '\\nf1-score :', f1_score(y_test, y_pred).round(3),\n",
    "        '\\nAUROC :', roc_auc_score(y_test, y_pred).round(3))"
   ]
  },
  {
   "cell_type": "code",
   "execution_count": null,
   "id": "3b490b9d",
   "metadata": {},
   "outputs": [],
   "source": []
  }
 ],
 "metadata": {
  "kernelspec": {
   "display_name": "Python 3 (ipykernel)",
   "language": "python",
   "name": "python3"
  },
  "language_info": {
   "codemirror_mode": {
    "name": "ipython",
    "version": 3
   },
   "file_extension": ".py",
   "mimetype": "text/x-python",
   "name": "python",
   "nbconvert_exporter": "python",
   "pygments_lexer": "ipython3",
   "version": "3.9.12"
  }
 },
 "nbformat": 4,
 "nbformat_minor": 5
}
